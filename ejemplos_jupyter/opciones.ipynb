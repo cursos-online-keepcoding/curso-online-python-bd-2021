{
 "cells": [
  {
   "cell_type": "markdown",
   "id": "a6fc2556",
   "metadata": {},
   "source": [
    "# Opciones de Jupyter"
   ]
  },
  {
   "cell_type": "markdown",
   "id": "52efb9da",
   "metadata": {},
   "source": [
    "## Todas las opciones"
   ]
  },
  {
   "cell_type": "code",
   "execution_count": 2,
   "id": "65c734ca",
   "metadata": {},
   "outputs": [
    {
     "data": {
      "application/json": {
       "cell": {
        "!": "OSMagics",
        "HTML": "Other",
        "SVG": "Other",
        "bash": "Other",
        "capture": "ExecutionMagics",
        "debug": "ExecutionMagics",
        "file": "Other",
        "html": "DisplayMagics",
        "javascript": "DisplayMagics",
        "js": "DisplayMagics",
        "latex": "DisplayMagics",
        "markdown": "DisplayMagics",
        "perl": "Other",
        "prun": "ExecutionMagics",
        "pypy": "Other",
        "python": "Other",
        "python2": "Other",
        "python3": "Other",
        "ruby": "Other",
        "script": "ScriptMagics",
        "sh": "Other",
        "svg": "DisplayMagics",
        "sx": "OSMagics",
        "system": "OSMagics",
        "time": "ExecutionMagics",
        "timeit": "ExecutionMagics",
        "writefile": "OSMagics"
       },
       "line": {
        "alias": "OSMagics",
        "alias_magic": "BasicMagics",
        "autoawait": "AsyncMagics",
        "autocall": "AutoMagics",
        "automagic": "AutoMagics",
        "autosave": "KernelMagics",
        "bookmark": "OSMagics",
        "cat": "Other",
        "cd": "OSMagics",
        "clear": "KernelMagics",
        "colors": "BasicMagics",
        "conda": "PackagingMagics",
        "config": "ConfigMagics",
        "connect_info": "KernelMagics",
        "cp": "Other",
        "debug": "ExecutionMagics",
        "dhist": "OSMagics",
        "dirs": "OSMagics",
        "doctest_mode": "BasicMagics",
        "ed": "Other",
        "edit": "KernelMagics",
        "env": "OSMagics",
        "gui": "BasicMagics",
        "hist": "Other",
        "history": "HistoryMagics",
        "killbgscripts": "ScriptMagics",
        "ldir": "Other",
        "less": "KernelMagics",
        "lf": "Other",
        "lk": "Other",
        "ll": "Other",
        "load": "CodeMagics",
        "load_ext": "ExtensionMagics",
        "loadpy": "CodeMagics",
        "logoff": "LoggingMagics",
        "logon": "LoggingMagics",
        "logstart": "LoggingMagics",
        "logstate": "LoggingMagics",
        "logstop": "LoggingMagics",
        "ls": "Other",
        "lsmagic": "BasicMagics",
        "lx": "Other",
        "macro": "ExecutionMagics",
        "magic": "BasicMagics",
        "man": "KernelMagics",
        "matplotlib": "PylabMagics",
        "mkdir": "Other",
        "more": "KernelMagics",
        "mv": "Other",
        "notebook": "BasicMagics",
        "page": "BasicMagics",
        "pastebin": "CodeMagics",
        "pdb": "ExecutionMagics",
        "pdef": "NamespaceMagics",
        "pdoc": "NamespaceMagics",
        "pfile": "NamespaceMagics",
        "pinfo": "NamespaceMagics",
        "pinfo2": "NamespaceMagics",
        "pip": "PackagingMagics",
        "popd": "OSMagics",
        "pprint": "BasicMagics",
        "precision": "BasicMagics",
        "prun": "ExecutionMagics",
        "psearch": "NamespaceMagics",
        "psource": "NamespaceMagics",
        "pushd": "OSMagics",
        "pwd": "OSMagics",
        "pycat": "OSMagics",
        "pylab": "PylabMagics",
        "qtconsole": "KernelMagics",
        "quickref": "BasicMagics",
        "recall": "HistoryMagics",
        "rehashx": "OSMagics",
        "reload_ext": "ExtensionMagics",
        "rep": "Other",
        "rerun": "HistoryMagics",
        "reset": "NamespaceMagics",
        "reset_selective": "NamespaceMagics",
        "rm": "Other",
        "rmdir": "Other",
        "run": "ExecutionMagics",
        "save": "CodeMagics",
        "sc": "OSMagics",
        "set_env": "OSMagics",
        "store": "StoreMagics",
        "sx": "OSMagics",
        "system": "OSMagics",
        "tb": "ExecutionMagics",
        "time": "ExecutionMagics",
        "timeit": "ExecutionMagics",
        "unalias": "OSMagics",
        "unload_ext": "ExtensionMagics",
        "who": "NamespaceMagics",
        "who_ls": "NamespaceMagics",
        "whos": "NamespaceMagics",
        "xdel": "NamespaceMagics",
        "xmode": "BasicMagics"
       }
      },
      "text/plain": [
       "Available line magics:\n",
       "%alias  %alias_magic  %autoawait  %autocall  %automagic  %autosave  %bookmark  %cat  %cd  %clear  %colors  %conda  %config  %connect_info  %cp  %debug  %dhist  %dirs  %doctest_mode  %ed  %edit  %env  %gui  %hist  %history  %killbgscripts  %ldir  %less  %lf  %lk  %ll  %load  %load_ext  %loadpy  %logoff  %logon  %logstart  %logstate  %logstop  %ls  %lsmagic  %lx  %macro  %magic  %man  %matplotlib  %mkdir  %more  %mv  %notebook  %page  %pastebin  %pdb  %pdef  %pdoc  %pfile  %pinfo  %pinfo2  %pip  %popd  %pprint  %precision  %prun  %psearch  %psource  %pushd  %pwd  %pycat  %pylab  %qtconsole  %quickref  %recall  %rehashx  %reload_ext  %rep  %rerun  %reset  %reset_selective  %rm  %rmdir  %run  %save  %sc  %set_env  %store  %sx  %system  %tb  %time  %timeit  %unalias  %unload_ext  %who  %who_ls  %whos  %xdel  %xmode\n",
       "\n",
       "Available cell magics:\n",
       "%%!  %%HTML  %%SVG  %%bash  %%capture  %%debug  %%file  %%html  %%javascript  %%js  %%latex  %%markdown  %%perl  %%prun  %%pypy  %%python  %%python2  %%python3  %%ruby  %%script  %%sh  %%svg  %%sx  %%system  %%time  %%timeit  %%writefile\n",
       "\n",
       "Automagic is ON, % prefix IS NOT needed for line magics."
      ]
     },
     "execution_count": 2,
     "metadata": {},
     "output_type": "execute_result"
    }
   ],
   "source": [
    "%lsmagic"
   ]
  },
  {
   "cell_type": "markdown",
   "id": "a75091ad",
   "metadata": {},
   "source": [
    "## Imprimir en bonito"
   ]
  },
  {
   "cell_type": "code",
   "execution_count": 13,
   "id": "4de79e7d",
   "metadata": {},
   "outputs": [
    {
     "name": "stdout",
     "output_type": "stream",
     "text": [
      "Pretty printing has been turned ON\n"
     ]
    }
   ],
   "source": [
    "%pprint"
   ]
  },
  {
   "cell_type": "code",
   "execution_count": 14,
   "id": "d157f338",
   "metadata": {},
   "outputs": [
    {
     "data": {
      "text/plain": [
       "environ{'PATH': '/home/avarar1986/.local/share/virtualenvs/python_programadores/bin:/usr/local/sbin:/usr/local/bin:/usr/sbin:/usr/bin:/sbin:/bin:/usr/games:/usr/local/games:/snap/bin',\n",
       "        'LC_MEASUREMENT': 'es_ES.UTF-8',\n",
       "        'XAUTHORITY': '/run/user/1000/gdm/Xauthority',\n",
       "        'INVOCATION_ID': '5f3abffe43fb456c9b32e545be33c5cb',\n",
       "        'XMODIFIERS': '@im=ibus',\n",
       "        'LC_TELEPHONE': 'es_ES.UTF-8',\n",
       "        'XDG_DATA_DIRS': '/usr/share/ubuntu:/usr/local/share/:/usr/share/:/var/lib/snapd/desktop',\n",
       "        'GDMSESSION': 'ubuntu',\n",
       "        'LC_TIME': 'es_ES.UTF-8',\n",
       "        'DBUS_SESSION_BUS_ADDRESS': 'unix:path=/run/user/1000/bus',\n",
       "        '__INTELLIJ_COMMAND_HISTFILE__': '/home/avarar1986/.cache/JetBrains/PyCharm2021.2/terminal/history/python_programadores-history',\n",
       "        'XDG_CURRENT_DESKTOP': 'ubuntu:GNOME',\n",
       "        'JOURNAL_STREAM': '8:44279',\n",
       "        'SSH_AGENT_PID': '1830',\n",
       "        'LC_PAPER': 'es_ES.UTF-8',\n",
       "        'SESSION_MANAGER': 'local/avarar1986-desktop:@/tmp/.ICE-unix/1876,unix/avarar1986-desktop:/tmp/.ICE-unix/1876',\n",
       "        'USERNAME': 'avarar1986',\n",
       "        'LOGNAME': 'avarar1986',\n",
       "        'PWD': '/home/avarar1986/projects/keepcoding/python_programadores',\n",
       "        'MANAGERPID': '1647',\n",
       "        'IM_CONFIG_PHASE': '1',\n",
       "        'GJS_DEBUG_TOPICS': 'JS ERROR;JS LOG',\n",
       "        'SHELL': '/usr/bin/zsh',\n",
       "        'LC_ADDRESS': 'es_ES.UTF-8',\n",
       "        'GIO_LAUNCHED_DESKTOP_FILE': '/home/avarar1986/.local/share/applications/jetbrains-pycharm.desktop',\n",
       "        'GNOME_DESKTOP_SESSION_ID': 'this-is-deprecated',\n",
       "        'GTK_MODULES': 'gail:atk-bridge',\n",
       "        'TERM_SESSION_ID': '93e0d8b3-4d65-4de0-ba32-5964a6b2787a',\n",
       "        'XDG_SESSION_DESKTOP': 'ubuntu',\n",
       "        'SHLVL': '1',\n",
       "        'LC_IDENTIFICATION': 'es_ES.UTF-8',\n",
       "        'LC_MONETARY': 'es_ES.UTF-8',\n",
       "        'QT_IM_MODULE': 'ibus',\n",
       "        'TERM': 'xterm-color',\n",
       "        'XDG_CONFIG_DIRS': '/etc/xdg/xdg-ubuntu:/etc/xdg',\n",
       "        'LANG': 'en_US.UTF-8',\n",
       "        'XDG_SESSION_TYPE': 'x11',\n",
       "        'DISPLAY': ':0',\n",
       "        'LC_NAME': 'es_ES.UTF-8',\n",
       "        'XDG_SESSION_CLASS': 'user',\n",
       "        '_': '/home/avarar1986/.local/share/virtualenvs/python_programadores/bin/jupyter',\n",
       "        'GPG_AGENT_INFO': '/run/user/1000/gnupg/S.gpg-agent:0:1',\n",
       "        'DESKTOP_SESSION': 'ubuntu',\n",
       "        'USER': 'avarar1986',\n",
       "        'DESKTOP_STARTUP_ID': 'gnome-shell/PyCharm Professional/1890-1-avarar1986-desktop_TIME25523037',\n",
       "        'XDG_MENU_PREFIX': 'gnome-',\n",
       "        'GIO_LAUNCHED_DESKTOP_FILE_PID': '15047',\n",
       "        'QT_ACCESSIBILITY': '1',\n",
       "        'WINDOWPATH': '2',\n",
       "        'TERMINAL_EMULATOR': 'JetBrains-JediTerm',\n",
       "        'LC_NUMERIC': 'es_ES.UTF-8',\n",
       "        'GJS_DEBUG_OUTPUT': 'stderr',\n",
       "        'SSH_AUTH_SOCK': '/run/user/1000/keyring/ssh',\n",
       "        'GNOME_SHELL_SESSION_MODE': 'ubuntu',\n",
       "        'XDG_RUNTIME_DIR': '/run/user/1000',\n",
       "        'HOME': '/home/avarar1986',\n",
       "        'OLDPWD': '/home/avarar1986/projects/keepcoding/python_programadores',\n",
       "        'ZSH': '/home/avarar1986/.oh-my-zsh',\n",
       "        'PAGER': 'cat',\n",
       "        'LESS': '-R',\n",
       "        'LSCOLORS': 'Gxfxcxdxbxegedabagacad',\n",
       "        'LS_COLORS': 'rs=0:di=01;34:ln=01;36:mh=00:pi=40;33:so=01;35:do=01;35:bd=40;33;01:cd=40;33;01:or=40;31;01:mi=00:su=37;41:sg=30;43:ca=30;41:tw=30;42:ow=34;42:st=37;44:ex=01;32:*.tar=01;31:*.tgz=01;31:*.arc=01;31:*.arj=01;31:*.taz=01;31:*.lha=01;31:*.lz4=01;31:*.lzh=01;31:*.lzma=01;31:*.tlz=01;31:*.txz=01;31:*.tzo=01;31:*.t7z=01;31:*.zip=01;31:*.z=01;31:*.dz=01;31:*.gz=01;31:*.lrz=01;31:*.lz=01;31:*.lzo=01;31:*.xz=01;31:*.zst=01;31:*.tzst=01;31:*.bz2=01;31:*.bz=01;31:*.tbz=01;31:*.tbz2=01;31:*.tz=01;31:*.deb=01;31:*.rpm=01;31:*.jar=01;31:*.war=01;31:*.ear=01;31:*.sar=01;31:*.rar=01;31:*.alz=01;31:*.ace=01;31:*.zoo=01;31:*.cpio=01;31:*.7z=01;31:*.rz=01;31:*.cab=01;31:*.wim=01;31:*.swm=01;31:*.dwm=01;31:*.esd=01;31:*.jpg=01;35:*.jpeg=01;35:*.mjpg=01;35:*.mjpeg=01;35:*.gif=01;35:*.bmp=01;35:*.pbm=01;35:*.pgm=01;35:*.ppm=01;35:*.tga=01;35:*.xbm=01;35:*.xpm=01;35:*.tif=01;35:*.tiff=01;35:*.png=01;35:*.svg=01;35:*.svgz=01;35:*.mng=01;35:*.pcx=01;35:*.mov=01;35:*.mpg=01;35:*.mpeg=01;35:*.m2v=01;35:*.mkv=01;35:*.webm=01;35:*.ogm=01;35:*.mp4=01;35:*.m4v=01;35:*.mp4v=01;35:*.vob=01;35:*.qt=01;35:*.nuv=01;35:*.wmv=01;35:*.asf=01;35:*.rm=01;35:*.rmvb=01;35:*.flc=01;35:*.avi=01;35:*.fli=01;35:*.flv=01;35:*.gl=01;35:*.dl=01;35:*.xcf=01;35:*.xwd=01;35:*.yuv=01;35:*.cgm=01;35:*.emf=01;35:*.ogv=01;35:*.ogx=01;35:*.aac=00;36:*.au=00;36:*.flac=00;36:*.m4a=00;36:*.mid=00;36:*.midi=00;36:*.mka=00;36:*.mp3=00;36:*.mpc=00;36:*.ogg=00;36:*.ra=00;36:*.wav=00;36:*.oga=00;36:*.opus=00;36:*.spx=00;36:*.xspf=00;36:',\n",
       "        'VIRTUAL_ENV': '/home/avarar1986/.local/share/virtualenvs/python_programadores',\n",
       "        'PS1': '(python_programadores) %{\\x1b[38;5;135m%}%n%{\\x1b[00m%} in %{\\x1b[38;5;118m%}%~%{\\x1b[00m%}$(ruby_prompt_info)$vcs_info_msg_0_%{\\x1b[38;5;166m%} λ%{\\x1b[00m%} ',\n",
       "        'PYDEVD_USE_FRAME_EVAL': 'NO',\n",
       "        'JPY_PARENT_PID': '174128',\n",
       "        'CLICOLOR': '1',\n",
       "        'GIT_PAGER': 'cat',\n",
       "        'MPLBACKEND': 'module://matplotlib_inline.backend_inline'}"
      ]
     },
     "execution_count": 14,
     "metadata": {},
     "output_type": "execute_result"
    }
   ],
   "source": [
    "import os\n",
    "os.environ"
   ]
  },
  {
   "cell_type": "markdown",
   "id": "fe528c80",
   "metadata": {},
   "source": [
    "## Ejecutar un script"
   ]
  },
  {
   "cell_type": "code",
   "execution_count": 15,
   "id": "0d5f9c98",
   "metadata": {},
   "outputs": [
    {
     "name": "stdout",
     "output_type": "stream",
     "text": [
      "Hello, world\n"
     ]
    }
   ],
   "source": [
    "%run mi_script.py"
   ]
  },
  {
   "cell_type": "markdown",
   "id": "6a5b90eb",
   "metadata": {},
   "source": [
    "## Cargar un script"
   ]
  },
  {
   "cell_type": "code",
   "execution_count": 1,
   "id": "7018e780",
   "metadata": {},
   "outputs": [
    {
     "name": "stdout",
     "output_type": "stream",
     "text": [
      "Hello, world\n"
     ]
    }
   ],
   "source": [
    "# %load mi_script.py\n",
    "def hello_world():\n",
    "    print('Hello, world')\n",
    "\n",
    "\n",
    "hello_world()\n"
   ]
  },
  {
   "cell_type": "code",
   "execution_count": 18,
   "id": "4ac95e99",
   "metadata": {},
   "outputs": [
    {
     "name": "stdout",
     "output_type": "stream",
     "text": [
      "Hello, world\n"
     ]
    }
   ],
   "source": [
    "hello_world()"
   ]
  },
  {
   "cell_type": "markdown",
   "id": "4ecc2543",
   "metadata": {},
   "source": [
    "## Mostrar un script"
   ]
  },
  {
   "cell_type": "code",
   "execution_count": 19,
   "id": "5b0dfe1d",
   "metadata": {},
   "outputs": [],
   "source": [
    "%pycat mi_script.py"
   ]
  },
  {
   "cell_type": "markdown",
   "id": "56e2015a",
   "metadata": {},
   "source": [
    "## Ver tiempo de ejecución"
   ]
  },
  {
   "cell_type": "code",
   "execution_count": 20,
   "id": "5da28b66",
   "metadata": {
    "scrolled": true
   },
   "outputs": [
    {
     "name": "stdout",
     "output_type": "stream",
     "text": [
      "CPU times: user 78.6 ms, sys: 4.52 ms, total: 83.1 ms\n",
      "Wall time: 84.3 ms\n"
     ]
    }
   ],
   "source": [
    "%%time\n",
    "import random\n",
    "\n",
    "\n",
    "def mi_bucle():\n",
    "    for i in range(0, 1000000):\n",
    "        random.random()\n",
    "\n",
    "        \n",
    "mi_bucle()"
   ]
  },
  {
   "cell_type": "code",
   "execution_count": 21,
   "id": "ada43206",
   "metadata": {},
   "outputs": [
    {
     "name": "stdout",
     "output_type": "stream",
     "text": [
      " "
     ]
    }
   ],
   "source": [
    "%prun mi_bucle()"
   ]
  },
  {
   "cell_type": "markdown",
   "id": "7dc610cc",
   "metadata": {},
   "source": [
    "## Ver entorno"
   ]
  },
  {
   "cell_type": "code",
   "execution_count": 22,
   "id": "f07177dc",
   "metadata": {},
   "outputs": [
    {
     "data": {
      "text/plain": [
       "{'PATH': '/home/avarar1986/.local/share/virtualenvs/python_programadores/bin:/usr/local/sbin:/usr/local/bin:/usr/sbin:/usr/bin:/sbin:/bin:/usr/games:/usr/local/games:/snap/bin',\n",
       " 'LC_MEASUREMENT': 'es_ES.UTF-8',\n",
       " 'XAUTHORITY': '/run/user/1000/gdm/Xauthority',\n",
       " 'INVOCATION_ID': '5f3abffe43fb456c9b32e545be33c5cb',\n",
       " 'XMODIFIERS': '@im=ibus',\n",
       " 'LC_TELEPHONE': 'es_ES.UTF-8',\n",
       " 'XDG_DATA_DIRS': '/usr/share/ubuntu:/usr/local/share/:/usr/share/:/var/lib/snapd/desktop',\n",
       " 'GDMSESSION': 'ubuntu',\n",
       " 'LC_TIME': 'es_ES.UTF-8',\n",
       " 'DBUS_SESSION_BUS_ADDRESS': 'unix:path=/run/user/1000/bus',\n",
       " '__INTELLIJ_COMMAND_HISTFILE__': '/home/avarar1986/.cache/JetBrains/PyCharm2021.2/terminal/history/python_programadores-history',\n",
       " 'XDG_CURRENT_DESKTOP': 'ubuntu:GNOME',\n",
       " 'JOURNAL_STREAM': '8:44279',\n",
       " 'SSH_AGENT_PID': '1830',\n",
       " 'LC_PAPER': 'es_ES.UTF-8',\n",
       " 'SESSION_MANAGER': 'local/avarar1986-desktop:@/tmp/.ICE-unix/1876,unix/avarar1986-desktop:/tmp/.ICE-unix/1876',\n",
       " 'USERNAME': 'avarar1986',\n",
       " 'LOGNAME': 'avarar1986',\n",
       " 'PWD': '/home/avarar1986/projects/keepcoding/python_programadores',\n",
       " 'MANAGERPID': '1647',\n",
       " 'IM_CONFIG_PHASE': '1',\n",
       " 'GJS_DEBUG_TOPICS': 'JS ERROR;JS LOG',\n",
       " 'SHELL': '/usr/bin/zsh',\n",
       " 'LC_ADDRESS': 'es_ES.UTF-8',\n",
       " 'GIO_LAUNCHED_DESKTOP_FILE': '/home/avarar1986/.local/share/applications/jetbrains-pycharm.desktop',\n",
       " 'GNOME_DESKTOP_SESSION_ID': 'this-is-deprecated',\n",
       " 'GTK_MODULES': 'gail:atk-bridge',\n",
       " 'TERM_SESSION_ID': '93e0d8b3-4d65-4de0-ba32-5964a6b2787a',\n",
       " 'XDG_SESSION_DESKTOP': 'ubuntu',\n",
       " 'SHLVL': '1',\n",
       " 'LC_IDENTIFICATION': 'es_ES.UTF-8',\n",
       " 'LC_MONETARY': 'es_ES.UTF-8',\n",
       " 'QT_IM_MODULE': 'ibus',\n",
       " 'TERM': 'xterm-color',\n",
       " 'XDG_CONFIG_DIRS': '/etc/xdg/xdg-ubuntu:/etc/xdg',\n",
       " 'LANG': 'en_US.UTF-8',\n",
       " 'XDG_SESSION_TYPE': 'x11',\n",
       " 'DISPLAY': ':0',\n",
       " 'LC_NAME': 'es_ES.UTF-8',\n",
       " 'XDG_SESSION_CLASS': 'user',\n",
       " '_': '/home/avarar1986/.local/share/virtualenvs/python_programadores/bin/jupyter',\n",
       " 'GPG_AGENT_INFO': '/run/user/1000/gnupg/S.gpg-agent:0:1',\n",
       " 'DESKTOP_SESSION': 'ubuntu',\n",
       " 'USER': 'avarar1986',\n",
       " 'DESKTOP_STARTUP_ID': 'gnome-shell/PyCharm Professional/1890-1-avarar1986-desktop_TIME25523037',\n",
       " 'XDG_MENU_PREFIX': 'gnome-',\n",
       " 'GIO_LAUNCHED_DESKTOP_FILE_PID': '15047',\n",
       " 'QT_ACCESSIBILITY': '1',\n",
       " 'WINDOWPATH': '2',\n",
       " 'TERMINAL_EMULATOR': 'JetBrains-JediTerm',\n",
       " 'LC_NUMERIC': 'es_ES.UTF-8',\n",
       " 'GJS_DEBUG_OUTPUT': 'stderr',\n",
       " 'SSH_AUTH_SOCK': '/run/user/1000/keyring/ssh',\n",
       " 'GNOME_SHELL_SESSION_MODE': 'ubuntu',\n",
       " 'XDG_RUNTIME_DIR': '/run/user/1000',\n",
       " 'HOME': '/home/avarar1986',\n",
       " 'OLDPWD': '/home/avarar1986/projects/keepcoding/python_programadores',\n",
       " 'ZSH': '/home/avarar1986/.oh-my-zsh',\n",
       " 'PAGER': 'cat',\n",
       " 'LESS': '-R',\n",
       " 'LSCOLORS': 'Gxfxcxdxbxegedabagacad',\n",
       " 'LS_COLORS': 'rs=0:di=01;34:ln=01;36:mh=00:pi=40;33:so=01;35:do=01;35:bd=40;33;01:cd=40;33;01:or=40;31;01:mi=00:su=37;41:sg=30;43:ca=30;41:tw=30;42:ow=34;42:st=37;44:ex=01;32:*.tar=01;31:*.tgz=01;31:*.arc=01;31:*.arj=01;31:*.taz=01;31:*.lha=01;31:*.lz4=01;31:*.lzh=01;31:*.lzma=01;31:*.tlz=01;31:*.txz=01;31:*.tzo=01;31:*.t7z=01;31:*.zip=01;31:*.z=01;31:*.dz=01;31:*.gz=01;31:*.lrz=01;31:*.lz=01;31:*.lzo=01;31:*.xz=01;31:*.zst=01;31:*.tzst=01;31:*.bz2=01;31:*.bz=01;31:*.tbz=01;31:*.tbz2=01;31:*.tz=01;31:*.deb=01;31:*.rpm=01;31:*.jar=01;31:*.war=01;31:*.ear=01;31:*.sar=01;31:*.rar=01;31:*.alz=01;31:*.ace=01;31:*.zoo=01;31:*.cpio=01;31:*.7z=01;31:*.rz=01;31:*.cab=01;31:*.wim=01;31:*.swm=01;31:*.dwm=01;31:*.esd=01;31:*.jpg=01;35:*.jpeg=01;35:*.mjpg=01;35:*.mjpeg=01;35:*.gif=01;35:*.bmp=01;35:*.pbm=01;35:*.pgm=01;35:*.ppm=01;35:*.tga=01;35:*.xbm=01;35:*.xpm=01;35:*.tif=01;35:*.tiff=01;35:*.png=01;35:*.svg=01;35:*.svgz=01;35:*.mng=01;35:*.pcx=01;35:*.mov=01;35:*.mpg=01;35:*.mpeg=01;35:*.m2v=01;35:*.mkv=01;35:*.webm=01;35:*.ogm=01;35:*.mp4=01;35:*.m4v=01;35:*.mp4v=01;35:*.vob=01;35:*.qt=01;35:*.nuv=01;35:*.wmv=01;35:*.asf=01;35:*.rm=01;35:*.rmvb=01;35:*.flc=01;35:*.avi=01;35:*.fli=01;35:*.flv=01;35:*.gl=01;35:*.dl=01;35:*.xcf=01;35:*.xwd=01;35:*.yuv=01;35:*.cgm=01;35:*.emf=01;35:*.ogv=01;35:*.ogx=01;35:*.aac=00;36:*.au=00;36:*.flac=00;36:*.m4a=00;36:*.mid=00;36:*.midi=00;36:*.mka=00;36:*.mp3=00;36:*.mpc=00;36:*.ogg=00;36:*.ra=00;36:*.wav=00;36:*.oga=00;36:*.opus=00;36:*.spx=00;36:*.xspf=00;36:',\n",
       " 'VIRTUAL_ENV': '/home/avarar1986/.local/share/virtualenvs/python_programadores',\n",
       " 'PS1': '(python_programadores) %{\\x1b[38;5;135m%}%n%{\\x1b[00m%} in %{\\x1b[38;5;118m%}%~%{\\x1b[00m%}$(ruby_prompt_info)$vcs_info_msg_0_%{\\x1b[38;5;166m%} λ%{\\x1b[00m%} ',\n",
       " 'PYDEVD_USE_FRAME_EVAL': 'NO',\n",
       " 'JPY_PARENT_PID': '174128',\n",
       " 'CLICOLOR': '1',\n",
       " 'GIT_PAGER': 'cat',\n",
       " 'MPLBACKEND': 'module://matplotlib_inline.backend_inline'}"
      ]
     },
     "execution_count": 22,
     "metadata": {},
     "output_type": "execute_result"
    }
   ],
   "source": [
    "%env"
   ]
  }
 ],
 "metadata": {
  "kernelspec": {
   "display_name": "Python 3 (ipykernel)",
   "language": "python",
   "name": "python3"
  },
  "language_info": {
   "codemirror_mode": {
    "name": "ipython",
    "version": 3
   },
   "file_extension": ".py",
   "mimetype": "text/x-python",
   "name": "python",
   "nbconvert_exporter": "python",
   "pygments_lexer": "ipython3",
   "version": "3.8.10"
  }
 },
 "nbformat": 4,
 "nbformat_minor": 5
}
