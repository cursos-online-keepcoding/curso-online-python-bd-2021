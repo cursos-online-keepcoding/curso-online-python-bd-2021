{
 "cells": [
  {
   "cell_type": "markdown",
   "id": "fab9c6b5",
   "metadata": {},
   "source": [
    "# Ejemplos Generadores"
   ]
  },
  {
   "cell_type": "code",
   "execution_count": 5,
   "id": "220d9f27",
   "metadata": {},
   "outputs": [
    {
     "data": {
      "text/plain": [
       "[0, 1, 2, 3, 4]"
      ]
     },
     "execution_count": 5,
     "metadata": {},
     "output_type": "execute_result"
    }
   ],
   "source": [
    "def list_func():\n",
    "    lista = []\n",
    "    for i in range(5):\n",
    "         lista.append(i)\n",
    "    return lista\n",
    "list_func()"
   ]
  },
  {
   "cell_type": "code",
   "execution_count": 6,
   "id": "2f4a6cc6",
   "metadata": {},
   "outputs": [
    {
     "data": {
      "text/plain": [
       "<generator object interfunc at 0x7f5f622c2c80>"
      ]
     },
     "execution_count": 6,
     "metadata": {},
     "output_type": "execute_result"
    }
   ],
   "source": [
    "def interfunc():\n",
    "    for i in range(5):\n",
    "        yield i\n",
    "\n",
    "interfunc()"
   ]
  },
  {
   "cell_type": "code",
   "execution_count": 7,
   "id": "4248e452",
   "metadata": {},
   "outputs": [
    {
     "data": {
      "text/plain": [
       "[0, 1, 2, 3, 4]"
      ]
     },
     "execution_count": 7,
     "metadata": {},
     "output_type": "execute_result"
    }
   ],
   "source": [
    "list(interfunc())"
   ]
  },
  {
   "cell_type": "code",
   "execution_count": 8,
   "id": "458bf000",
   "metadata": {},
   "outputs": [
    {
     "name": "stdout",
     "output_type": "stream",
     "text": [
      "0\n",
      "1\n",
      "2\n",
      "3\n",
      "4\n"
     ]
    }
   ],
   "source": [
    "iterator = interfunc()\n",
    "print(next(iterator))\n",
    "print(next(iterator)) \n",
    "print(next(iterator))\n",
    "print(next(iterator))\n",
    "print(next(iterator))"
   ]
  },
  {
   "cell_type": "code",
   "execution_count": 9,
   "id": "292a73a4",
   "metadata": {},
   "outputs": [
    {
     "ename": "StopIteration",
     "evalue": "",
     "output_type": "error",
     "traceback": [
      "\u001b[0;31m---------------------------------------------------------------------------\u001b[0m",
      "\u001b[0;31mStopIteration\u001b[0m                             Traceback (most recent call last)",
      "\u001b[0;32m/tmp/ipykernel_50094/4235178104.py\u001b[0m in \u001b[0;36m<module>\u001b[0;34m\u001b[0m\n\u001b[0;32m----> 1\u001b[0;31m \u001b[0mnext\u001b[0m\u001b[0;34m(\u001b[0m\u001b[0miterator\u001b[0m\u001b[0;34m)\u001b[0m\u001b[0;34m\u001b[0m\u001b[0;34m\u001b[0m\u001b[0m\n\u001b[0m",
      "\u001b[0;31mStopIteration\u001b[0m: "
     ]
    }
   ],
   "source": [
    "next(iterator)"
   ]
  },
  {
   "cell_type": "code",
   "execution_count": 10,
   "id": "03e16e93",
   "metadata": {},
   "outputs": [
    {
     "data": {
      "text/plain": [
       "[0, 1, 2, 3, 4]"
      ]
     },
     "execution_count": 10,
     "metadata": {},
     "output_type": "execute_result"
    }
   ],
   "source": [
    "def interfunc():\n",
    "    for i in range(5):\n",
    "        yield i\n",
    "\n",
    "[i for i in interfunc()]"
   ]
  },
  {
   "cell_type": "code",
   "execution_count": 13,
   "id": "072e59ac",
   "metadata": {},
   "outputs": [
    {
     "name": "stdout",
     "output_type": "stream",
     "text": [
      "[0, 1, 2, 3, 4]\n",
      "[]\n",
      "[]\n"
     ]
    }
   ],
   "source": [
    "iterator = interfunc()\n",
    "print([i for i in iterator])\n",
    "print([i for i in iterator])\n",
    "print([i for i in iterator])"
   ]
  },
  {
   "cell_type": "code",
   "execution_count": null,
   "id": "88ef18e9",
   "metadata": {},
   "outputs": [],
   "source": [
    "def list_func():\n",
    "    lista = []\n",
    "    for i in range(5):\n",
    "         lista.append(i)\n",
    "    return lista\n",
    "\n",
    "\n",
    "def interfunc():\n",
    "    for i in range(5):\n",
    "        yield i + 1\n",
    "        \n",
    "for i in interfunc()\n",
    "     a += i * i"
   ]
  },
  {
   "cell_type": "markdown",
   "id": "2c52d7d8",
   "metadata": {},
   "source": [
    "# Comunicación con generadores"
   ]
  },
  {
   "cell_type": "code",
   "execution_count": 14,
   "id": "dd00b1a3",
   "metadata": {},
   "outputs": [
    {
     "name": "stdout",
     "output_type": "stream",
     "text": [
      "None\n",
      "[1, 2, 3]\n"
     ]
    }
   ],
   "source": [
    "def interfunc_with_send():\n",
    "    val = yield 1\n",
    "    print(val)\n",
    "    yield 2\n",
    "    yield 3\n",
    "    \n",
    "print([i for i in interfunc_with_send()])"
   ]
  },
  {
   "cell_type": "code",
   "execution_count": 15,
   "id": "0b8ccdd6",
   "metadata": {},
   "outputs": [
    {
     "name": "stdout",
     "output_type": "stream",
     "text": [
      "1\n",
      "abc\n",
      "2\n",
      "3\n"
     ]
    }
   ],
   "source": [
    "gen = interfunc_with_send()\n",
    "print(next(gen))\n",
    "print(gen.send(\"abc\"))\n",
    "print(next(gen))"
   ]
  },
  {
   "cell_type": "markdown",
   "id": "bf35f012",
   "metadata": {},
   "source": [
    "Cuando llamamos a `gen.send()`, el argumento es pasado como el valor de retorno de yield"
   ]
  },
  {
   "cell_type": "code",
   "execution_count": 16,
   "id": "32cf5751",
   "metadata": {},
   "outputs": [
    {
     "ename": "TypeError",
     "evalue": "can't send non-None value to a just-started generator",
     "output_type": "error",
     "traceback": [
      "\u001b[0;31m---------------------------------------------------------------------------\u001b[0m",
      "\u001b[0;31mTypeError\u001b[0m                                 Traceback (most recent call last)",
      "\u001b[0;32m/tmp/ipykernel_50094/83271534.py\u001b[0m in \u001b[0;36m<module>\u001b[0;34m\u001b[0m\n\u001b[1;32m      1\u001b[0m \u001b[0mgen\u001b[0m \u001b[0;34m=\u001b[0m \u001b[0minterfunc_with_send\u001b[0m\u001b[0;34m(\u001b[0m\u001b[0;34m)\u001b[0m\u001b[0;34m\u001b[0m\u001b[0;34m\u001b[0m\u001b[0m\n\u001b[0;32m----> 2\u001b[0;31m \u001b[0mprint\u001b[0m\u001b[0;34m(\u001b[0m\u001b[0mgen\u001b[0m\u001b[0;34m.\u001b[0m\u001b[0msend\u001b[0m\u001b[0;34m(\u001b[0m\u001b[0;34m\"a\"\u001b[0m\u001b[0;34m)\u001b[0m\u001b[0;34m)\u001b[0m\u001b[0;34m\u001b[0m\u001b[0;34m\u001b[0m\u001b[0m\n\u001b[0m\u001b[1;32m      3\u001b[0m \u001b[0mprint\u001b[0m\u001b[0;34m(\u001b[0m\u001b[0mgen\u001b[0m\u001b[0;34m.\u001b[0m\u001b[0msend\u001b[0m\u001b[0;34m(\u001b[0m\u001b[0;34m\"b\"\u001b[0m\u001b[0;34m)\u001b[0m\u001b[0;34m)\u001b[0m\u001b[0;34m\u001b[0m\u001b[0;34m\u001b[0m\u001b[0m\n\u001b[1;32m      4\u001b[0m \u001b[0mprint\u001b[0m\u001b[0;34m(\u001b[0m\u001b[0mgen\u001b[0m\u001b[0;34m.\u001b[0m\u001b[0msend\u001b[0m\u001b[0;34m(\u001b[0m\u001b[0;34m\"c\"\u001b[0m\u001b[0;34m)\u001b[0m\u001b[0;34m)\u001b[0m\u001b[0;34m\u001b[0m\u001b[0;34m\u001b[0m\u001b[0m\n",
      "\u001b[0;31mTypeError\u001b[0m: can't send non-None value to a just-started generator"
     ]
    }
   ],
   "source": [
    "gen = interfunc_with_send()\n",
    "print(gen.send(\"a\"))\n",
    "print(gen.send(\"b\"))\n",
    "print(gen.send(\"c\"))"
   ]
  },
  {
   "cell_type": "code",
   "execution_count": 17,
   "id": "f9d0b021",
   "metadata": {},
   "outputs": [
    {
     "name": "stdout",
     "output_type": "stream",
     "text": [
      "1\n",
      "b\n",
      "2\n",
      "3\n"
     ]
    }
   ],
   "source": [
    "gen = interfunc_with_send()\n",
    "print(next(gen))\n",
    "print(gen.send(\"b\"))\n",
    "print(gen.send(\"c\"))"
   ]
  },
  {
   "cell_type": "markdown",
   "id": "121662d0",
   "metadata": {},
   "source": [
    "# Rizando el rizo: yield from"
   ]
  },
  {
   "cell_type": "code",
   "execution_count": 18,
   "id": "d3e4e3ca",
   "metadata": {},
   "outputs": [
    {
     "name": "stdout",
     "output_type": "stream",
     "text": [
      "1\n",
      "**********\n",
      "2\n",
      "**********\n",
      "inner abc\n",
      "outer 3\n",
      "4\n",
      "**********\n"
     ]
    }
   ],
   "source": [
    "def inner():\n",
    "    inner_result = yield 2\n",
    "    print('inner', inner_result)\n",
    "    return 3\n",
    "\n",
    "def outer():\n",
    "    yield 1\n",
    "    val = yield from inner()\n",
    "    print('outer', val)\n",
    "    yield 4\n",
    "\n",
    "\n",
    "gen = outer()\n",
    "print(next(gen), \"*\" * 10, sep=\"\\n\")\n",
    "print(next(gen), \"*\" * 10, sep=\"\\n\")\n",
    "print(gen.send(\"abc\"), \"*\" * 10, sep=\"\\n\")\n"
   ]
  },
  {
   "cell_type": "markdown",
   "id": "a429f1b0",
   "metadata": {},
   "source": [
    "# Clases como generadores"
   ]
  },
  {
   "cell_type": "code",
   "execution_count": 19,
   "id": "59c5e381",
   "metadata": {},
   "outputs": [
    {
     "data": {
      "text/plain": [
       "[0, 1, 2, 3, 4, 5, 6, 7, 8, 9, 10, 11, 12, 13, 14, 15, 16, 17, 18, 19]"
      ]
     },
     "execution_count": 19,
     "metadata": {},
     "output_type": "execute_result"
    }
   ],
   "source": [
    "class MiGenerador():\n",
    "    counter = 0\n",
    "    def __iter__(self,):\n",
    "        while self.counter < 20:\n",
    "            val = yield self.counter\n",
    "            self.counter += 1\n",
    "            \n",
    "gen = MiGenerador()\n",
    "\n",
    "[i for i in gen]"
   ]
  },
  {
   "cell_type": "code",
   "execution_count": 20,
   "id": "c37200aa",
   "metadata": {},
   "outputs": [
    {
     "data": {
      "text/plain": [
       "[]"
      ]
     },
     "execution_count": 20,
     "metadata": {},
     "output_type": "execute_result"
    }
   ],
   "source": [
    "[i for i in gen]"
   ]
  }
 ],
 "metadata": {
  "kernelspec": {
   "display_name": "Python 3 (ipykernel)",
   "language": "python",
   "name": "python3"
  },
  "language_info": {
   "codemirror_mode": {
    "name": "ipython",
    "version": 3
   },
   "file_extension": ".py",
   "mimetype": "text/x-python",
   "name": "python",
   "nbconvert_exporter": "python",
   "pygments_lexer": "ipython3",
   "version": "3.8.10"
  }
 },
 "nbformat": 4,
 "nbformat_minor": 5
}
