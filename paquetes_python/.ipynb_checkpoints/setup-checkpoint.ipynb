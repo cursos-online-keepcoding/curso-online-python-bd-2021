{
 "cells": [
  {
   "cell_type": "markdown",
   "id": "23f43556",
   "metadata": {},
   "source": [
    "# Creación de librerías, comandos y distribución de artefactos"
   ]
  },
  {
   "cell_type": "markdown",
   "id": "d491c4fc",
   "metadata": {},
   "source": [
    "Generar una librería o un artefacto con Python es un proceso bastante simple. Basta con generar un fichero `setup.py` en la raíz de tu proyecto con esta definición"
   ]
  },
  {
   "cell_type": "code",
   "execution_count": null,
   "id": "f77c58ae",
   "metadata": {},
   "outputs": [],
   "source": [
    "from setuptools import find_packages, setup\n",
    "\n",
    "setup(name='myproject',\n",
    "      version='1.0',\n",
    "      packages=find_packages())"
   ]
  },
  {
   "cell_type": "markdown",
   "id": "82690d41",
   "metadata": {},
   "source": [
    "Para instalarlo, podemos hacerlo con el comando\n",
    "```bash\n",
    "python setup.py install\n",
    "```"
   ]
  },
  {
   "cell_type": "markdown",
   "id": "a197aa0b",
   "metadata": {},
   "source": [
    "Una vez instalado, si ejecutamos el comando `pip freeze` para ver las librerías que tenemos instaladas, nos deberá aparecer `myproject==1.0`\n",
    "\n",
    "La estructura de ficheros toda librería, por regla general sería:\n",
    "\n",
    "```\n",
    "/packaging_tutorial\n",
    "  /example_pkg\n",
    "    __init__.py\n",
    "  setup.py\n",
    "  LICENSE\n",
    "  README.md\n",
    "```\n",
    "\n",
    "**Importante** saber que el nombre que le damos dentro de nuestro setup.py y el nombre de la carpeta no tienen porqué ser el mismo. Puede que tu librería de conflicto, o por nomenclatura quieres darle otro nombre, por ejemplo, en nuestro setup.py podemos ponerle `name='paradigma_genericforms'` pero si a la carpeta la llamamos nada más `genericforms` cuando la importemos en nuestros scripts será llamada con `import genericforms`"
   ]
  },
  {
   "cell_type": "markdown",
   "id": "6610e5cf",
   "metadata": {},
   "source": [
    "## Distribución de artefactos"
   ]
  },
  {
   "cell_type": "markdown",
   "id": "982697b3",
   "metadata": {},
   "source": [
    "Para desplegar nuestras librerías en el repositorio oficial de Pypi, antiguamente, nos bastaba con tener una cuenta en Pypi y configurar nuestras credenciales en `~/.pypirc` tal que:\n",
    "\n",
    "```\n",
    "[distutils]\n",
    "index-servers =\n",
    "  pypi\n",
    "\n",
    "[pypi]\n",
    "username:<your_pypi_username>\n",
    "password:<your_pypi_passwd>\n",
    "```"
   ]
  },
  {
   "cell_type": "markdown",
   "id": "bcad6e04",
   "metadata": {},
   "source": [
    "Una vez hecho esto, podíamos registrar y subir nuestro código con  `python setup.py sdist upload`."
   ]
  },
  {
   "cell_type": "markdown",
   "id": "b7a0226c",
   "metadata": {},
   "source": [
    "Pero actualmente, la forma oficial es con la librería `twine`, por lo que el anterior comando ha sido reemplazado por:\n",
    "\n",
    "```\n",
    "python setup.py sdist # genera el artefacto\n",
    "twine upload -r pypi dist/* # sube el artefacto\n",
    "```\n",
    "\n",
    "Más información en la [documentación oficial](https://docs.python.org/3.7/distributing/index.html#distributing-index)"
   ]
  },
  {
   "cell_type": "markdown",
   "id": "3cadbcc2",
   "metadata": {},
   "source": [
    "## Distribución de artefactos en servidores privados"
   ]
  },
  {
   "cell_type": "markdown",
   "id": "873b0acb",
   "metadata": {},
   "source": [
    "En el trabajo, en el día a día, no es el caso común que podamos subir todas las librerías que creamos como software libre y público. Por lo que nuestros artefactos tendremos que desplegarlos en repositorios privados, para ello, igual que hicimos con Pypi, tendremos que configurar uno origen de datos en nuestro `~/.pypirc`, como por ejemplo:\n",
    "\n",
    "```\n",
    "[distutils]\n",
    "index-servers =\n",
    "  pypi\n",
    "  local\n",
    "\n",
    "[pypi]\n",
    "username:<your_pypi_username>\n",
    "password:<your_pypi_passwd>\n",
    "\n",
    "[local]\n",
    "repository: http://localhost:8080\n",
    "username: pip\n",
    "password: local\n",
    "```\n",
    "\n",
    "Para desplegar nuestras librerías en este origen de datos, usando los mismos comandos de antes, pero cambiando el origen en vez de `-r pypi` por `-r local` quedando tal que `twine upload -r local dist/*` o de la forma antigua `python setup.py sdist upload -r local`"
   ]
  },
  {
   "cell_type": "markdown",
   "id": "d1ac6836",
   "metadata": {},
   "source": [
    "## Instalar artefactos desde servidores privados"
   ]
  },
  {
   "cell_type": "markdown",
   "id": "8dafa983",
   "metadata": {},
   "source": [
    "Una vez tenemos nuestra librería distribuida, podemos acceder a ella desde cualquier parte con el comando\n",
    "\n",
    "```\n",
    "pip install --extra-index-url http://localhost:8080/simple/ myproject\n",
    "```"
   ]
  },
  {
   "cell_type": "markdown",
   "id": "793dcd58",
   "metadata": {},
   "source": [
    "Si se da el caso que el servidor donde queremos bajarnos la imagen se ejecuta por HTTPS, la forma más cómoda de configurar nuestro proyecto sería editando el fichero `~/.config/pip/pip.conf`, o crearlo si no existe con una configuración tal que:\n",
    "\n",
    "\n",
    "```\n",
    "[global]\n",
    "extra-index-url= http://localhost/simple\n",
    "trusted-host = localhost\n",
    "               pypi.org\n",
    "```\n",
    "U otro ejemplo real\n",
    "\n",
    "```\n",
    "[global]\n",
    "extra-index-url= http://nexus.jx.1.2.3.4.nip.io/repository/pypi-ipince/simple\n",
    "trusted-host = nexus.jx.1.2.3.4.185.nip.io\n",
    "               pypi.org\n",
    "```\n",
    "\n",
    "De esta forma nos ahorramos el parámetro `extra-index-url` cuando hacemos un `pip install`. Quedando tal que:\n",
    "\n",
    "```\n",
    "pip install myproject\n",
    "```\n"
   ]
  },
  {
   "cell_type": "markdown",
   "id": "120598f4",
   "metadata": {},
   "source": [
    "# Jugar en local"
   ]
  },
  {
   "cell_type": "markdown",
   "id": "ad0b7f58",
   "metadata": {},
   "source": [
    "Para trastear y crear tus propios repositorios en local puedes levantar con docker tu propio servidor con estos comandos:\n",
    "\n",
    "```\n",
    "htpasswd -sc .htpasswd pip\n",
    "docker run -v $(pwd)/.htpasswd:/data/.htpasswd -p 8080:8080 pypiserver/pypiserver:latest -P .htpasswd packages\n",
    "```\n",
    "\n",
    "Con el primer comando generamos un usuario para nuestro servidor. Al ejecutarlo te pedirá una contraseña, en nuestro caso pusimos `local` y utilizamos la configuración que mostrábamos al principio de este manual de nuestro `~/.pypirc`. \n",
    "\n",
    "\n"
   ]
  }
 ],
 "metadata": {
  "kernelspec": {
   "display_name": "Python 3 (ipykernel)",
   "language": "python",
   "name": "python3"
  },
  "language_info": {
   "codemirror_mode": {
    "name": "ipython",
    "version": 3
   },
   "file_extension": ".py",
   "mimetype": "text/x-python",
   "name": "python",
   "nbconvert_exporter": "python",
   "pygments_lexer": "ipython3",
   "version": "3.8.10"
  }
 },
 "nbformat": 4,
 "nbformat_minor": 5
}
