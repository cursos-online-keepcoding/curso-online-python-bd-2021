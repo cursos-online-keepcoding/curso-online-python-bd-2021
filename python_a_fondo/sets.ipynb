{
 "cells": [
  {
   "cell_type": "code",
   "execution_count": 6,
   "id": "821e88a4",
   "metadata": {},
   "outputs": [
    {
     "data": {
      "text/plain": [
       "set"
      ]
     },
     "execution_count": 6,
     "metadata": {},
     "output_type": "execute_result"
    }
   ],
   "source": [
    "mi_set_texto = {\"primer elemento\", \"segundo elemento\", \"tercer elemento\"}\n",
    "type(mi_set_texto)"
   ]
  },
  {
   "cell_type": "markdown",
   "id": "cbd1a0d1",
   "metadata": {},
   "source": [
    "## Cuidado con la inicialización, un set se puede definir con llaves {} pero llaves vacías es dictionary"
   ]
  },
  {
   "cell_type": "code",
   "execution_count": 7,
   "id": "f93658fe",
   "metadata": {},
   "outputs": [
    {
     "data": {
      "text/plain": [
       "dict"
      ]
     },
     "execution_count": 7,
     "metadata": {},
     "output_type": "execute_result"
    }
   ],
   "source": [
    "mi_set_texto2 = {}\n",
    "type(mi_set_texto2)"
   ]
  },
  {
   "cell_type": "markdown",
   "id": "76c0ff21",
   "metadata": {},
   "source": [
    "# Siempre mejor para evitar confusiones:"
   ]
  },
  {
   "cell_type": "code",
   "execution_count": null,
   "id": "216b44c9",
   "metadata": {},
   "outputs": [],
   "source": [
    "mi_set_texto2 = set()\n",
    "mi_set_texto2 = set((1,2,3))"
   ]
  },
  {
   "cell_type": "markdown",
   "id": "925f684e",
   "metadata": {},
   "source": [
    "# Indexing"
   ]
  },
  {
   "cell_type": "code",
   "execution_count": 8,
   "id": "22827b01",
   "metadata": {},
   "outputs": [
    {
     "ename": "TypeError",
     "evalue": "'set' object is not subscriptable",
     "output_type": "error",
     "traceback": [
      "\u001b[0;31m---------------------------------------------------------------------------\u001b[0m",
      "\u001b[0;31mTypeError\u001b[0m                                 Traceback (most recent call last)",
      "\u001b[0;32m/tmp/ipykernel_47145/2766434878.py\u001b[0m in \u001b[0;36m<module>\u001b[0;34m\u001b[0m\n\u001b[0;32m----> 1\u001b[0;31m \u001b[0mmi_set_texto\u001b[0m\u001b[0;34m[\u001b[0m\u001b[0;36m0\u001b[0m\u001b[0;34m]\u001b[0m\u001b[0;34m\u001b[0m\u001b[0;34m\u001b[0m\u001b[0m\n\u001b[0m",
      "\u001b[0;31mTypeError\u001b[0m: 'set' object is not subscriptable"
     ]
    }
   ],
   "source": [
    "mi_set_texto[0]"
   ]
  },
  {
   "cell_type": "markdown",
   "id": "89a86b03",
   "metadata": {},
   "source": [
    "# Slicing"
   ]
  },
  {
   "cell_type": "code",
   "execution_count": 9,
   "id": "a154e31f",
   "metadata": {},
   "outputs": [
    {
     "ename": "TypeError",
     "evalue": "'set' object is not subscriptable",
     "output_type": "error",
     "traceback": [
      "\u001b[0;31m---------------------------------------------------------------------------\u001b[0m",
      "\u001b[0;31mTypeError\u001b[0m                                 Traceback (most recent call last)",
      "\u001b[0;32m/tmp/ipykernel_47145/2076206101.py\u001b[0m in \u001b[0;36m<module>\u001b[0;34m\u001b[0m\n\u001b[0;32m----> 1\u001b[0;31m \u001b[0mmi_set_texto\u001b[0m\u001b[0;34m[\u001b[0m\u001b[0;36m1\u001b[0m\u001b[0;34m:\u001b[0m\u001b[0;34m]\u001b[0m\u001b[0;34m\u001b[0m\u001b[0;34m\u001b[0m\u001b[0m\n\u001b[0m",
      "\u001b[0;31mTypeError\u001b[0m: 'set' object is not subscriptable"
     ]
    }
   ],
   "source": [
    "mi_set_texto[1:]"
   ]
  },
  {
   "cell_type": "markdown",
   "id": "93ceb1e3",
   "metadata": {},
   "source": [
    "# Operaciones de Conjuntos"
   ]
  },
  {
   "cell_type": "code",
   "execution_count": 10,
   "id": "eacc1a2c",
   "metadata": {},
   "outputs": [],
   "source": [
    "set_1 = {1, 2, 3, 4, 5}\n",
    "set_2 = {4, 5, 6, 7, 8, 9, 10}"
   ]
  },
  {
   "cell_type": "markdown",
   "id": "106dd6a9",
   "metadata": {},
   "source": [
    "## Intersección"
   ]
  },
  {
   "cell_type": "code",
   "execution_count": 11,
   "id": "930d410b",
   "metadata": {},
   "outputs": [
    {
     "data": {
      "text/plain": [
       "{4, 5}"
      ]
     },
     "execution_count": 11,
     "metadata": {},
     "output_type": "execute_result"
    }
   ],
   "source": [
    "set_1.intersection(set_2)"
   ]
  },
  {
   "cell_type": "code",
   "execution_count": 12,
   "id": "7510460e",
   "metadata": {},
   "outputs": [
    {
     "data": {
      "text/plain": [
       "{4, 5}"
      ]
     },
     "execution_count": 12,
     "metadata": {},
     "output_type": "execute_result"
    }
   ],
   "source": [
    "set_1 & set_2"
   ]
  },
  {
   "cell_type": "markdown",
   "id": "cb462fdd",
   "metadata": {},
   "source": [
    "## Unión"
   ]
  },
  {
   "cell_type": "code",
   "execution_count": 13,
   "id": "b4b27d4d",
   "metadata": {},
   "outputs": [
    {
     "data": {
      "text/plain": [
       "{1, 2, 3, 4, 5, 6, 7, 8, 9, 10}"
      ]
     },
     "execution_count": 13,
     "metadata": {},
     "output_type": "execute_result"
    }
   ],
   "source": [
    "set_1.union(set_2)"
   ]
  },
  {
   "cell_type": "code",
   "execution_count": 14,
   "id": "3c884b6b",
   "metadata": {},
   "outputs": [
    {
     "data": {
      "text/plain": [
       "{1, 2, 3, 4, 5, 6, 7, 8, 9, 10}"
      ]
     },
     "execution_count": 14,
     "metadata": {},
     "output_type": "execute_result"
    }
   ],
   "source": [
    "set_1 | set_2"
   ]
  },
  {
   "cell_type": "markdown",
   "id": "7e4feac2",
   "metadata": {},
   "source": [
    "## Diferencia"
   ]
  },
  {
   "cell_type": "code",
   "execution_count": 15,
   "id": "ff252995",
   "metadata": {},
   "outputs": [
    {
     "data": {
      "text/plain": [
       "{1, 2, 3}"
      ]
     },
     "execution_count": 15,
     "metadata": {},
     "output_type": "execute_result"
    }
   ],
   "source": [
    "set_1.difference(set_2)"
   ]
  },
  {
   "cell_type": "code",
   "execution_count": 16,
   "id": "829383ff",
   "metadata": {},
   "outputs": [
    {
     "data": {
      "text/plain": [
       "{1, 2, 3}"
      ]
     },
     "execution_count": 16,
     "metadata": {},
     "output_type": "execute_result"
    }
   ],
   "source": [
    "set_1 - set_2"
   ]
  },
  {
   "cell_type": "markdown",
   "id": "82c9ac13",
   "metadata": {},
   "source": [
    "## Diferencia simétrica"
   ]
  },
  {
   "cell_type": "code",
   "execution_count": 17,
   "id": "c2de1d3b",
   "metadata": {},
   "outputs": [
    {
     "data": {
      "text/plain": [
       "{1, 2, 3, 6, 7, 8, 9, 10}"
      ]
     },
     "execution_count": 17,
     "metadata": {},
     "output_type": "execute_result"
    }
   ],
   "source": [
    "set_1.symmetric_difference(set_2)"
   ]
  },
  {
   "cell_type": "code",
   "execution_count": 18,
   "id": "8b80db78",
   "metadata": {},
   "outputs": [
    {
     "data": {
      "text/plain": [
       "{1, 2, 3, 6, 7, 8, 9, 10}"
      ]
     },
     "execution_count": 18,
     "metadata": {},
     "output_type": "execute_result"
    }
   ],
   "source": [
    "set_1 ^ set_2"
   ]
  },
  {
   "cell_type": "markdown",
   "id": "347f27cf",
   "metadata": {},
   "source": [
    "## Solo puede almacenar objetos inmutables"
   ]
  },
  {
   "cell_type": "code",
   "execution_count": 19,
   "id": "2204cde4",
   "metadata": {},
   "outputs": [
    {
     "ename": "TypeError",
     "evalue": "unhashable type: 'dict'",
     "output_type": "error",
     "traceback": [
      "\u001b[0;31m---------------------------------------------------------------------------\u001b[0m",
      "\u001b[0;31mTypeError\u001b[0m                                 Traceback (most recent call last)",
      "\u001b[0;32m/tmp/ipykernel_47145/2739899268.py\u001b[0m in \u001b[0;36m<module>\u001b[0;34m\u001b[0m\n\u001b[1;32m      2\u001b[0m \u001b[0mmi_diccionario2\u001b[0m \u001b[0;34m=\u001b[0m \u001b[0;34m{\u001b[0m\u001b[0;34m\"e\"\u001b[0m\u001b[0;34m:\u001b[0m \u001b[0;34m\"f\"\u001b[0m\u001b[0;34m,\u001b[0m \u001b[0;34m\"g\"\u001b[0m\u001b[0;34m:\u001b[0m \u001b[0;34m\"h\"\u001b[0m\u001b[0;34m}\u001b[0m\u001b[0;34m\u001b[0m\u001b[0;34m\u001b[0m\u001b[0m\n\u001b[1;32m      3\u001b[0m \u001b[0;34m\u001b[0m\u001b[0m\n\u001b[0;32m----> 4\u001b[0;31m \u001b[0mset_2\u001b[0m \u001b[0;34m=\u001b[0m \u001b[0mset\u001b[0m\u001b[0;34m(\u001b[0m\u001b[0;34m[\u001b[0m\u001b[0mmi_diccionario\u001b[0m\u001b[0;34m,\u001b[0m \u001b[0mmi_diccionario2\u001b[0m\u001b[0;34m]\u001b[0m\u001b[0;34m)\u001b[0m\u001b[0;34m\u001b[0m\u001b[0;34m\u001b[0m\u001b[0m\n\u001b[0m",
      "\u001b[0;31mTypeError\u001b[0m: unhashable type: 'dict'"
     ]
    }
   ],
   "source": [
    "mi_diccionario = {\"a\": \"b\", \"c\": \"d\"}\n",
    "mi_diccionario2 = {\"e\": \"f\", \"g\": \"h\"}\n",
    "\n",
    "set_2 = set([mi_diccionario, mi_diccionario2])"
   ]
  },
  {
   "cell_type": "markdown",
   "id": "ea8ed280",
   "metadata": {},
   "source": [
    "# Desventaja: no garantiza la ordenación"
   ]
  },
  {
   "cell_type": "code",
   "execution_count": 20,
   "id": "34b9ba12",
   "metadata": {},
   "outputs": [
    {
     "name": "stdout",
     "output_type": "stream",
     "text": [
      "{'36', '16', '29', '46', '4', '41', '55', '81', '24', '7', '69', '6', '84', '72', '79', '87', '10', '88', '15', '20', '8', '22', '63', '33', '5', '86', '45', '21', '35', '53', '51', '97', '28', '44', '59', '31', '54', '37', '48', '90', '94', '95', '91', '74', '23', '9', '83', '77', '56', '13', '67', '76', '57', '19', '18', '99', '58', '89', '93', '26', '11', '17', '50', '98', '62', '1', '3', '52', '39', '38', '30', '34', '80', '14', '92', '27', '12', '73', '85', '0', '25', '47', '49', '65', '42', '60', '70', '43', '40', '96', '32', '82', '64', '68', '71', '2', '78', '75', '66', '61'}\n"
     ]
    }
   ],
   "source": [
    "mi_set_texto = set([f\"{i}\" for i in range(100)])\n",
    "print(mi_set_texto)"
   ]
  },
  {
   "cell_type": "markdown",
   "id": "3dbc4fec",
   "metadata": {},
   "source": [
    "# Desventaja: el tamaño"
   ]
  },
  {
   "cell_type": "code",
   "execution_count": 21,
   "id": "8a5b4d60",
   "metadata": {},
   "outputs": [],
   "source": [
    "mi_set_texto = set([f\"{i}\" for i in range(100)])\n",
    "mi_lista = list([f\"{i}\" for i in range(100)])"
   ]
  },
  {
   "cell_type": "code",
   "execution_count": 22,
   "id": "0e49680a",
   "metadata": {},
   "outputs": [
    {
     "data": {
      "text/plain": [
       "8408"
      ]
     },
     "execution_count": 22,
     "metadata": {},
     "output_type": "execute_result"
    }
   ],
   "source": [
    "import sys\n",
    "sys.getsizeof(mi_set_texto)"
   ]
  },
  {
   "cell_type": "code",
   "execution_count": 23,
   "id": "9023685b",
   "metadata": {},
   "outputs": [
    {
     "data": {
      "text/plain": [
       "856"
      ]
     },
     "execution_count": 23,
     "metadata": {},
     "output_type": "execute_result"
    }
   ],
   "source": [
    "sys.getsizeof(mi_lista)"
   ]
  }
 ],
 "metadata": {
  "kernelspec": {
   "display_name": "Python 3 (ipykernel)",
   "language": "python",
   "name": "python3"
  },
  "language_info": {
   "codemirror_mode": {
    "name": "ipython",
    "version": 3
   },
   "file_extension": ".py",
   "mimetype": "text/x-python",
   "name": "python",
   "nbconvert_exporter": "python",
   "pygments_lexer": "ipython3",
   "version": "3.8.10"
  }
 },
 "nbformat": 4,
 "nbformat_minor": 5
}
