{
 "cells": [
  {
   "cell_type": "code",
   "execution_count": 1,
   "id": "821e88a4",
   "metadata": {},
   "outputs": [
    {
     "data": {
      "text/plain": [
       "tuple"
      ]
     },
     "execution_count": 1,
     "metadata": {},
     "output_type": "execute_result"
    }
   ],
   "source": [
    "mi_tupla_texto = (\"primer elemento\", \"segundo elemento\", \"tercer elemento\")\n",
    "type(mi_tupla_texto)"
   ]
  },
  {
   "cell_type": "markdown",
   "id": "925f684e",
   "metadata": {},
   "source": [
    "# Indexing"
   ]
  },
  {
   "cell_type": "code",
   "execution_count": 2,
   "id": "22827b01",
   "metadata": {},
   "outputs": [
    {
     "data": {
      "text/plain": [
       "'primer elemento'"
      ]
     },
     "execution_count": 2,
     "metadata": {},
     "output_type": "execute_result"
    }
   ],
   "source": [
    "mi_tupla_texto[0]"
   ]
  },
  {
   "cell_type": "markdown",
   "id": "89a86b03",
   "metadata": {},
   "source": [
    "# Slicing"
   ]
  },
  {
   "cell_type": "code",
   "execution_count": 3,
   "id": "a154e31f",
   "metadata": {},
   "outputs": [
    {
     "data": {
      "text/plain": [
       "('segundo elemento', 'tercer elemento')"
      ]
     },
     "execution_count": 3,
     "metadata": {},
     "output_type": "execute_result"
    }
   ],
   "source": [
    "mi_tupla_texto[1:]"
   ]
  },
  {
   "cell_type": "code",
   "execution_count": 4,
   "id": "7e1ff1be",
   "metadata": {},
   "outputs": [],
   "source": [
    "mi_tupla_numero = (1, 2, 3, 4, 5, 7)"
   ]
  },
  {
   "cell_type": "code",
   "execution_count": 5,
   "id": "c4e9e91f",
   "metadata": {},
   "outputs": [
    {
     "data": {
      "text/plain": [
       "(1, 2, 3)"
      ]
     },
     "execution_count": 5,
     "metadata": {},
     "output_type": "execute_result"
    }
   ],
   "source": [
    "mi_tupla_numero[:3]"
   ]
  },
  {
   "cell_type": "code",
   "execution_count": 6,
   "id": "32f376ac",
   "metadata": {},
   "outputs": [
    {
     "data": {
      "text/plain": [
       "(2,)"
      ]
     },
     "execution_count": 6,
     "metadata": {},
     "output_type": "execute_result"
    }
   ],
   "source": [
    "mi_tupla_numero[1:2]"
   ]
  },
  {
   "cell_type": "markdown",
   "id": "815afe9e",
   "metadata": {},
   "source": [
    "# Recordemos: tuplas son inmutables"
   ]
  },
  {
   "cell_type": "code",
   "execution_count": 7,
   "id": "fd168013",
   "metadata": {
    "scrolled": true
   },
   "outputs": [
    {
     "ename": "TypeError",
     "evalue": "'tuple' object does not support item assignment",
     "output_type": "error",
     "traceback": [
      "\u001b[0;31m---------------------------------------------------------------------------\u001b[0m",
      "\u001b[0;31mTypeError\u001b[0m                                 Traceback (most recent call last)",
      "\u001b[0;32m/tmp/ipykernel_47115/3350798177.py\u001b[0m in \u001b[0;36m<module>\u001b[0;34m\u001b[0m\n\u001b[0;32m----> 1\u001b[0;31m \u001b[0mmi_tupla_texto\u001b[0m\u001b[0;34m[\u001b[0m\u001b[0;36m0\u001b[0m\u001b[0;34m]\u001b[0m \u001b[0;34m=\u001b[0m \u001b[0;34m\"cuarto elemento\"\u001b[0m\u001b[0;34m\u001b[0m\u001b[0;34m\u001b[0m\u001b[0m\n\u001b[0m\u001b[1;32m      2\u001b[0m \u001b[0mmi_tupla_text\u001b[0m\u001b[0;34m\u001b[0m\u001b[0;34m\u001b[0m\u001b[0m\n",
      "\u001b[0;31mTypeError\u001b[0m: 'tuple' object does not support item assignment"
     ]
    }
   ],
   "source": [
    "mi_tupla_texto[0] = \"cuarto elemento\"\n",
    "mi_tupla_text"
   ]
  },
  {
   "cell_type": "markdown",
   "id": "ea8ed280",
   "metadata": {},
   "source": [
    "# Ventajas: el tamaño"
   ]
  },
  {
   "cell_type": "code",
   "execution_count": 8,
   "id": "8a5b4d60",
   "metadata": {},
   "outputs": [],
   "source": [
    "mi_tupla = tuple([f\"{i}\" for i in range(10000)])\n",
    "mi_lista = list([f\"{i}\" for i in range(10000)])"
   ]
  },
  {
   "cell_type": "code",
   "execution_count": 9,
   "id": "0e49680a",
   "metadata": {},
   "outputs": [
    {
     "data": {
      "text/plain": [
       "80040"
      ]
     },
     "execution_count": 9,
     "metadata": {},
     "output_type": "execute_result"
    }
   ],
   "source": [
    "import sys\n",
    "sys.getsizeof(mi_tupla)"
   ]
  },
  {
   "cell_type": "code",
   "execution_count": 10,
   "id": "9023685b",
   "metadata": {},
   "outputs": [
    {
     "data": {
      "text/plain": [
       "80056"
      ]
     },
     "execution_count": 10,
     "metadata": {},
     "output_type": "execute_result"
    }
   ],
   "source": [
    "sys.getsizeof(mi_lista)"
   ]
  },
  {
   "cell_type": "markdown",
   "id": "b6cf8f35",
   "metadata": {},
   "source": [
    "# Otro tipos de tuplas"
   ]
  },
  {
   "cell_type": "markdown",
   "id": "30dbf073",
   "metadata": {},
   "source": [
    "## Namedtuple"
   ]
  },
  {
   "cell_type": "code",
   "execution_count": 17,
   "id": "c79c7d66",
   "metadata": {},
   "outputs": [],
   "source": [
    "import collections\n",
    "\n",
    "Server = collections.namedtuple('Server2', ('ip', 'hostname'))"
   ]
  },
  {
   "cell_type": "code",
   "execution_count": 18,
   "id": "985adea7",
   "metadata": {},
   "outputs": [],
   "source": [
    "my_server = Server(ip=\"192.168.1.1\", hostname=\"mi_servidor\")"
   ]
  },
  {
   "cell_type": "code",
   "execution_count": 13,
   "id": "0d099a48",
   "metadata": {},
   "outputs": [
    {
     "data": {
      "text/plain": [
       "'192.168.1.1'"
      ]
     },
     "execution_count": 13,
     "metadata": {},
     "output_type": "execute_result"
    }
   ],
   "source": [
    "my_server.ip"
   ]
  },
  {
   "cell_type": "code",
   "execution_count": 14,
   "id": "0d50212f",
   "metadata": {},
   "outputs": [
    {
     "data": {
      "text/plain": [
       "'mi_servidor'"
      ]
     },
     "execution_count": 14,
     "metadata": {},
     "output_type": "execute_result"
    }
   ],
   "source": [
    "my_server.hostname"
   ]
  },
  {
   "cell_type": "code",
   "execution_count": 15,
   "id": "c02e99b1",
   "metadata": {},
   "outputs": [
    {
     "data": {
      "text/plain": [
       "('192.168.1.1', 'mi_servidor')"
      ]
     },
     "execution_count": 15,
     "metadata": {},
     "output_type": "execute_result"
    }
   ],
   "source": [
    "tuple(my_server)"
   ]
  },
  {
   "cell_type": "code",
   "execution_count": 19,
   "id": "5f49cb1b",
   "metadata": {},
   "outputs": [
    {
     "data": {
      "text/plain": [
       "\"Server2(ip='192.168.1.1', hostname='mi_servidor')\""
      ]
     },
     "execution_count": 19,
     "metadata": {},
     "output_type": "execute_result"
    }
   ],
   "source": [
    "repr(my_server)"
   ]
  }
 ],
 "metadata": {
  "kernelspec": {
   "display_name": "Python 3 (ipykernel)",
   "language": "python",
   "name": "python3"
  },
  "language_info": {
   "codemirror_mode": {
    "name": "ipython",
    "version": 3
   },
   "file_extension": ".py",
   "mimetype": "text/x-python",
   "name": "python",
   "nbconvert_exporter": "python",
   "pygments_lexer": "ipython3",
   "version": "3.8.10"
  }
 },
 "nbformat": 4,
 "nbformat_minor": 5
}
