{
 "cells": [
  {
   "cell_type": "code",
   "execution_count": 2,
   "id": "821e88a4",
   "metadata": {},
   "outputs": [
    {
     "data": {
      "text/plain": [
       "list"
      ]
     },
     "execution_count": 2,
     "metadata": {},
     "output_type": "execute_result"
    }
   ],
   "source": [
    "mi_lista_texto = [\"primer elemento\", \"segundo elemento\", \"tercer elemento\"]\n",
    "type(mi_lista_texto)"
   ]
  },
  {
   "cell_type": "markdown",
   "id": "925f684e",
   "metadata": {},
   "source": [
    "# Indexing"
   ]
  },
  {
   "cell_type": "code",
   "execution_count": 3,
   "id": "22827b01",
   "metadata": {},
   "outputs": [
    {
     "data": {
      "text/plain": [
       "'primer elemento'"
      ]
     },
     "execution_count": 3,
     "metadata": {},
     "output_type": "execute_result"
    }
   ],
   "source": [
    "mi_lista_texto[0]"
   ]
  },
  {
   "cell_type": "markdown",
   "id": "89a86b03",
   "metadata": {},
   "source": [
    "# Slicing"
   ]
  },
  {
   "cell_type": "code",
   "execution_count": 4,
   "id": "a154e31f",
   "metadata": {},
   "outputs": [
    {
     "data": {
      "text/plain": [
       "['segundo elemento', 'tercer elemento']"
      ]
     },
     "execution_count": 4,
     "metadata": {},
     "output_type": "execute_result"
    }
   ],
   "source": [
    "mi_lista_texto[1:]"
   ]
  },
  {
   "cell_type": "code",
   "execution_count": 5,
   "id": "7e1ff1be",
   "metadata": {},
   "outputs": [],
   "source": [
    "mi_lista_numero = [1, 2, 3, 4, 5, 7]"
   ]
  },
  {
   "cell_type": "code",
   "execution_count": 6,
   "id": "c4e9e91f",
   "metadata": {},
   "outputs": [
    {
     "data": {
      "text/plain": [
       "[1, 2, 3]"
      ]
     },
     "execution_count": 6,
     "metadata": {},
     "output_type": "execute_result"
    }
   ],
   "source": [
    "mi_lista_numero[:3]"
   ]
  },
  {
   "cell_type": "code",
   "execution_count": 7,
   "id": "32f376ac",
   "metadata": {},
   "outputs": [
    {
     "data": {
      "text/plain": [
       "[2]"
      ]
     },
     "execution_count": 7,
     "metadata": {},
     "output_type": "execute_result"
    }
   ],
   "source": [
    "mi_lista_numero[1:2]"
   ]
  },
  {
   "cell_type": "markdown",
   "id": "0c2bdc04",
   "metadata": {},
   "source": [
    "# Añadir "
   ]
  },
  {
   "cell_type": "code",
   "execution_count": 8,
   "id": "bb01df20",
   "metadata": {},
   "outputs": [
    {
     "data": {
      "text/plain": [
       "['primer elemento', 'segundo elemento', 'tercer elemento', 'cuarto elemento']"
      ]
     },
     "execution_count": 8,
     "metadata": {},
     "output_type": "execute_result"
    }
   ],
   "source": [
    "mi_lista_texto.append(\"cuarto elemento\")\n",
    "mi_lista_texto"
   ]
  },
  {
   "cell_type": "code",
   "execution_count": 9,
   "id": "fec50e7d",
   "metadata": {},
   "outputs": [
    {
     "data": {
      "text/plain": [
       "['primer elemento',\n",
       " 'quinto elemento',\n",
       " 'segundo elemento',\n",
       " 'tercer elemento',\n",
       " 'cuarto elemento']"
      ]
     },
     "execution_count": 9,
     "metadata": {},
     "output_type": "execute_result"
    }
   ],
   "source": [
    "mi_lista_texto.insert(1, \"quinto elemento\")\n",
    "mi_lista_texto"
   ]
  },
  {
   "cell_type": "markdown",
   "id": "602f4d8e",
   "metadata": {},
   "source": [
    "# Borrar"
   ]
  },
  {
   "cell_type": "code",
   "execution_count": 10,
   "id": "80bbe0c7",
   "metadata": {},
   "outputs": [
    {
     "data": {
      "text/plain": [
       "['primer elemento', 'quinto elemento', 'tercer elemento', 'cuarto elemento']"
      ]
     },
     "execution_count": 10,
     "metadata": {},
     "output_type": "execute_result"
    }
   ],
   "source": [
    "mi_lista_texto.remove(\"segundo elemento\")\n",
    "mi_lista_texto"
   ]
  },
  {
   "cell_type": "code",
   "execution_count": 11,
   "id": "addece8e",
   "metadata": {},
   "outputs": [
    {
     "data": {
      "text/plain": [
       "['primer elemento', 'quinto elemento', 'cuarto elemento']"
      ]
     },
     "execution_count": 11,
     "metadata": {},
     "output_type": "execute_result"
    }
   ],
   "source": [
    "del mi_lista_texto[2]\n",
    "mi_lista_texto"
   ]
  },
  {
   "cell_type": "markdown",
   "id": "585bc837",
   "metadata": {},
   "source": [
    "## ... Y mucho más"
   ]
  },
  {
   "cell_type": "code",
   "execution_count": 12,
   "id": "630189e8",
   "metadata": {},
   "outputs": [
    {
     "data": {
      "text/plain": [
       "['__add__',\n",
       " '__class__',\n",
       " '__contains__',\n",
       " '__delattr__',\n",
       " '__delitem__',\n",
       " '__dir__',\n",
       " '__doc__',\n",
       " '__eq__',\n",
       " '__format__',\n",
       " '__ge__',\n",
       " '__getattribute__',\n",
       " '__getitem__',\n",
       " '__gt__',\n",
       " '__hash__',\n",
       " '__iadd__',\n",
       " '__imul__',\n",
       " '__init__',\n",
       " '__init_subclass__',\n",
       " '__iter__',\n",
       " '__le__',\n",
       " '__len__',\n",
       " '__lt__',\n",
       " '__mul__',\n",
       " '__ne__',\n",
       " '__new__',\n",
       " '__reduce__',\n",
       " '__reduce_ex__',\n",
       " '__repr__',\n",
       " '__reversed__',\n",
       " '__rmul__',\n",
       " '__setattr__',\n",
       " '__setitem__',\n",
       " '__sizeof__',\n",
       " '__str__',\n",
       " '__subclasshook__',\n",
       " 'append',\n",
       " 'clear',\n",
       " 'copy',\n",
       " 'count',\n",
       " 'extend',\n",
       " 'index',\n",
       " 'insert',\n",
       " 'pop',\n",
       " 'remove',\n",
       " 'reverse',\n",
       " 'sort']"
      ]
     },
     "execution_count": 12,
     "metadata": {},
     "output_type": "execute_result"
    }
   ],
   "source": [
    "dir(list)"
   ]
  }
 ],
 "metadata": {
  "kernelspec": {
   "display_name": "Python 3 (ipykernel)",
   "language": "python",
   "name": "python3"
  },
  "language_info": {
   "codemirror_mode": {
    "name": "ipython",
    "version": 3
   },
   "file_extension": ".py",
   "mimetype": "text/x-python",
   "name": "python",
   "nbconvert_exporter": "python",
   "pygments_lexer": "ipython3",
   "version": "3.8.10"
  }
 },
 "nbformat": 4,
 "nbformat_minor": 5
}
