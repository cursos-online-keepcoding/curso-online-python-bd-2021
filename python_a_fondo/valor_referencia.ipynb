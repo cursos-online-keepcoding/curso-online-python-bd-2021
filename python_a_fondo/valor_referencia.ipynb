{
 "cells": [
  {
   "cell_type": "code",
   "execution_count": 1,
   "id": "e31d6e84",
   "metadata": {},
   "outputs": [],
   "source": [
    "list1 = []\n",
    "list2 = []\n",
    "list3 = list1"
   ]
  },
  {
   "cell_type": "code",
   "execution_count": 2,
   "id": "52c10ce0",
   "metadata": {},
   "outputs": [
    {
     "data": {
      "text/plain": [
       "True"
      ]
     },
     "execution_count": 2,
     "metadata": {},
     "output_type": "execute_result"
    }
   ],
   "source": [
    "list1 == list2"
   ]
  },
  {
   "cell_type": "code",
   "execution_count": 3,
   "id": "b1b87f2b",
   "metadata": {},
   "outputs": [
    {
     "data": {
      "text/plain": [
       "False"
      ]
     },
     "execution_count": 3,
     "metadata": {},
     "output_type": "execute_result"
    }
   ],
   "source": [
    "list1 is list2"
   ]
  },
  {
   "cell_type": "code",
   "execution_count": 4,
   "id": "21663c3a",
   "metadata": {},
   "outputs": [
    {
     "data": {
      "text/plain": [
       "True"
      ]
     },
     "execution_count": 4,
     "metadata": {},
     "output_type": "execute_result"
    }
   ],
   "source": [
    "list1 is list3"
   ]
  },
  {
   "cell_type": "code",
   "execution_count": 5,
   "id": "cdda0368",
   "metadata": {},
   "outputs": [
    {
     "name": "stdout",
     "output_type": "stream",
     "text": [
      "ID lista1:  140445570890880\n",
      "ID lista2:  140445570890688\n",
      "ID lista3:  140445570890880\n"
     ]
    }
   ],
   "source": [
    "print(\"ID lista1: \", id(list1))\n",
    "print(\"ID lista2: \", id(list2))\n",
    "print(\"ID lista3: \", id(list3))"
   ]
  },
  {
   "cell_type": "code",
   "execution_count": 6,
   "id": "487a10dd",
   "metadata": {},
   "outputs": [],
   "source": [
    "a = \"123\"\n",
    "b = \"456\"\n",
    "c = \"123\""
   ]
  },
  {
   "cell_type": "code",
   "execution_count": 7,
   "id": "55437b3b",
   "metadata": {},
   "outputs": [
    {
     "data": {
      "text/plain": [
       "True"
      ]
     },
     "execution_count": 7,
     "metadata": {},
     "output_type": "execute_result"
    }
   ],
   "source": [
    "a == c"
   ]
  },
  {
   "cell_type": "code",
   "execution_count": 8,
   "id": "e6d09ddb",
   "metadata": {},
   "outputs": [
    {
     "data": {
      "text/plain": [
       "True"
      ]
     },
     "execution_count": 8,
     "metadata": {},
     "output_type": "execute_result"
    }
   ],
   "source": [
    "a is c"
   ]
  },
  {
   "cell_type": "code",
   "execution_count": 9,
   "id": "e4616891",
   "metadata": {},
   "outputs": [
    {
     "name": "stdout",
     "output_type": "stream",
     "text": [
      "ID a:  140445653123952\n",
      "ID b:  140445571354736\n",
      "ID c:  140445653123952\n"
     ]
    }
   ],
   "source": [
    "print(\"ID a: \", id(a))\n",
    "print(\"ID b: \", id(b))\n",
    "print(\"ID c: \", id(c))"
   ]
  },
  {
   "cell_type": "code",
   "execution_count": 10,
   "id": "0bf6d515",
   "metadata": {},
   "outputs": [
    {
     "name": "stdout",
     "output_type": "stream",
     "text": [
      "ID de a:  140445571368560\n",
      "[mi_funcion_sobre_strings] Variable a vale:  140445571368560\n",
      "[mi_funcion_sobre_strings] ID de a:  140445571367536\n",
      "====================\n",
      "Variable a vale:  hola\n",
      "ID de a:  140445571368560\n"
     ]
    }
   ],
   "source": [
    "def mi_funcion_sobre_strings(a):\n",
    "    print(\"[mi_funcion_sobre_strings] Variable a vale: \", id(a))\n",
    "    a = \"adios\"\n",
    "    print(\"[mi_funcion_sobre_strings] ID de a: \", id(a))\n",
    "\n",
    "a = \"hola\"\n",
    "print(\"ID de a: \", id(a))\n",
    "mi_funcion_sobre_strings(a)\n",
    "print(\"=\" * 20)\n",
    "print(\"Variable a vale: \", a)\n",
    "print(\"ID de a: \", id(a))"
   ]
  },
  {
   "cell_type": "code",
   "execution_count": 11,
   "id": "50321925",
   "metadata": {},
   "outputs": [
    {
     "name": "stdout",
     "output_type": "stream",
     "text": [
      "ID de a:  140445571368560\n",
      "[mi_funcion_sobre_strings] Variable a vale:  140445571368560\n",
      "[mi_funcion_sobre_strings] ID de a:  140445571368688\n",
      "====================\n",
      "Variable a vale:  hola\n",
      "ID de a:  140445571368560\n"
     ]
    }
   ],
   "source": [
    "def mi_funcion_sobre_strings(a):\n",
    "    print(\"[mi_funcion_sobre_strings] Variable a vale: \", id(a))\n",
    "    a = a.title()\n",
    "    print(\"[mi_funcion_sobre_strings] ID de a: \", id(a))\n",
    "\n",
    "a = \"hola\"\n",
    "print(\"ID de a: \", id(a))\n",
    "mi_funcion_sobre_strings(a)\n",
    "print(\"=\" * 20)\n",
    "print(\"Variable a vale: \", a)\n",
    "print(\"ID de a: \", id(a))"
   ]
  },
  {
   "cell_type": "code",
   "execution_count": 12,
   "id": "084abba6",
   "metadata": {},
   "outputs": [
    {
     "name": "stdout",
     "output_type": "stream",
     "text": [
      "ID de lista_a:  140445571358272\n",
      "[mi_funcion_sobre_strings] ID de lista_a:  140445571358272\n",
      "[mi_funcion_sobre_strings] ID de lista_a:  140445570905024\n",
      "====================\n",
      "Variable lista_a vale:  [1, 2, 3, 4]\n",
      "ID de lista_a:  140445571358272\n"
     ]
    }
   ],
   "source": [
    "def mi_funcion_sobre_listas(lista_a):\n",
    "    print(\"[mi_funcion_sobre_strings] ID de lista_a: \", id(lista_a))\n",
    "    lista_a = [4, 5, 6, 7]\n",
    "    print(\"[mi_funcion_sobre_strings] ID de lista_a: \", id(lista_a))\n",
    "\n",
    "lista_a = [1, 2, 3, 4]\n",
    "print(\"ID de lista_a: \", id(lista_a))\n",
    "mi_funcion_sobre_listas(lista_a)\n",
    "print(\"=\" * 20)\n",
    "print(\"Variable lista_a vale: \", lista_a)\n",
    "print(\"ID de lista_a: \", id(lista_a))"
   ]
  },
  {
   "cell_type": "code",
   "execution_count": 13,
   "id": "b414f8bf",
   "metadata": {},
   "outputs": [
    {
     "name": "stdout",
     "output_type": "stream",
     "text": [
      "ID de lista_a:  140445570910912\n",
      "[mi_funcion_sobre_strings] ID de lista_a:  140445570910912\n",
      "[mi_funcion_sobre_strings] ID de lista_a:  140445570910912\n",
      "====================\n",
      "Variable lista_a vale:  [1, 2, 3, 4, '5']\n",
      "ID de lista_a:  140445570910912\n"
     ]
    }
   ],
   "source": [
    "def mi_funcion_sobre_listas(lista_a):\n",
    "    print(\"[mi_funcion_sobre_strings] ID de lista_a: \", id(lista_a))\n",
    "    lista_a.append(\"5\")\n",
    "    print(\"[mi_funcion_sobre_strings] ID de lista_a: \", id(lista_a))\n",
    "\n",
    "lista_a = [1, 2, 3, 4]\n",
    "print(\"ID de lista_a: \", id(lista_a))\n",
    "mi_funcion_sobre_listas(lista_a)\n",
    "print(\"=\" * 20)\n",
    "print(\"Variable lista_a vale: \", lista_a)\n",
    "print(\"ID de lista_a: \", id(lista_a))"
   ]
  }
 ],
 "metadata": {
  "kernelspec": {
   "display_name": "Python 3 (ipykernel)",
   "language": "python",
   "name": "python3"
  },
  "language_info": {
   "codemirror_mode": {
    "name": "ipython",
    "version": 3
   },
   "file_extension": ".py",
   "mimetype": "text/x-python",
   "name": "python",
   "nbconvert_exporter": "python",
   "pygments_lexer": "ipython3",
   "version": "3.8.10"
  }
 },
 "nbformat": 4,
 "nbformat_minor": 5
}
