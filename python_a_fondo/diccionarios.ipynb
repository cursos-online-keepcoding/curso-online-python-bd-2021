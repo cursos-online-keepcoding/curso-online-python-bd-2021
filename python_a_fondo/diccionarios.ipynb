{
 "cells": [
  {
   "cell_type": "code",
   "execution_count": 1,
   "id": "821e88a4",
   "metadata": {},
   "outputs": [
    {
     "data": {
      "text/plain": [
       "dict"
      ]
     },
     "execution_count": 1,
     "metadata": {},
     "output_type": "execute_result"
    }
   ],
   "source": [
    "mi_diccionario = {\n",
    "    \"primer_elemento\": \"valor del primer elemento\", \n",
    "    \"segundo_elemento\": \"valor del segundo elemento\", \n",
    "    \"tercer_elemento\": \"valor del tercer elemento\",\n",
    "}\n",
    "type(mi_diccionario)"
   ]
  },
  {
   "cell_type": "markdown",
   "id": "925f684e",
   "metadata": {},
   "source": [
    "# Diccionarios también son iterables"
   ]
  },
  {
   "cell_type": "code",
   "execution_count": 2,
   "id": "22827b01",
   "metadata": {},
   "outputs": [
    {
     "name": "stdout",
     "output_type": "stream",
     "text": [
      "primer_elemento\n",
      "segundo_elemento\n",
      "tercer_elemento\n"
     ]
    }
   ],
   "source": [
    "for element in mi_diccionario:\n",
    "    print(element)"
   ]
  },
  {
   "cell_type": "code",
   "execution_count": 7,
   "id": "ceb6b972",
   "metadata": {},
   "outputs": [
    {
     "name": "stdout",
     "output_type": "stream",
     "text": [
      "valor del primer elemento\n",
      "valor del segundo elemento\n",
      "valor del tercer elemento\n"
     ]
    }
   ],
   "source": [
    "for element in mi_diccionario.keys():\n",
    "    print(mi_diccionario[element])"
   ]
  },
  {
   "cell_type": "code",
   "execution_count": 4,
   "id": "d38126c6",
   "metadata": {},
   "outputs": [
    {
     "name": "stdout",
     "output_type": "stream",
     "text": [
      "valor del primer elemento\n",
      "valor del segundo elemento\n",
      "valor del tercer elemento\n"
     ]
    }
   ],
   "source": [
    "for element in mi_diccionario.values():\n",
    "    print(element)"
   ]
  },
  {
   "cell_type": "code",
   "execution_count": 6,
   "id": "6d76b8b7",
   "metadata": {},
   "outputs": [
    {
     "name": "stdout",
     "output_type": "stream",
     "text": [
      "primer_elemento: valor del primer elemento\n",
      "segundo_elemento: valor del segundo elemento\n",
      "tercer_elemento: valor del tercer elemento\n"
     ]
    }
   ],
   "source": [
    "for k, v in mi_diccionario.items():\n",
    "    print(f\"{k}: {v}\")"
   ]
  },
  {
   "cell_type": "markdown",
   "id": "b91b2d0e",
   "metadata": {},
   "source": [
    "# Acceder a un elemento"
   ]
  },
  {
   "cell_type": "code",
   "execution_count": 8,
   "id": "c57a83d2",
   "metadata": {},
   "outputs": [
    {
     "ename": "KeyError",
     "evalue": "'quinto_elemento'",
     "output_type": "error",
     "traceback": [
      "\u001b[0;31m---------------------------------------------------------------------------\u001b[0m",
      "\u001b[0;31mKeyError\u001b[0m                                  Traceback (most recent call last)",
      "\u001b[0;32m/tmp/ipykernel_48221/711169310.py\u001b[0m in \u001b[0;36m<module>\u001b[0;34m\u001b[0m\n\u001b[0;32m----> 1\u001b[0;31m \u001b[0mmi_diccionario\u001b[0m\u001b[0;34m[\u001b[0m\u001b[0;34m\"quinto_elemento\"\u001b[0m\u001b[0;34m]\u001b[0m\u001b[0;34m\u001b[0m\u001b[0;34m\u001b[0m\u001b[0m\n\u001b[0m",
      "\u001b[0;31mKeyError\u001b[0m: 'quinto_elemento'"
     ]
    }
   ],
   "source": [
    "mi_diccionario[\"quinto_elemento\"]"
   ]
  },
  {
   "cell_type": "code",
   "execution_count": 9,
   "id": "1069951e",
   "metadata": {},
   "outputs": [
    {
     "name": "stdout",
     "output_type": "stream",
     "text": [
      "None\n"
     ]
    }
   ],
   "source": [
    "print(mi_diccionario.get(\"quinto_elemento\"))"
   ]
  },
  {
   "cell_type": "code",
   "execution_count": 12,
   "id": "a21c2652",
   "metadata": {},
   "outputs": [
    {
     "name": "stdout",
     "output_type": "stream",
     "text": [
      "default\n"
     ]
    }
   ],
   "source": [
    "print(mi_diccionario.get(\"quinto_elemento\", \"default\"))"
   ]
  },
  {
   "cell_type": "markdown",
   "id": "89a86b03",
   "metadata": {},
   "source": [
    "# Añadir"
   ]
  },
  {
   "cell_type": "code",
   "execution_count": 13,
   "id": "a154e31f",
   "metadata": {},
   "outputs": [
    {
     "data": {
      "text/plain": [
       "{'primer_elemento': 'valor del primer elemento',\n",
       " 'segundo_elemento': 'valor del segundo elemento',\n",
       " 'tercer_elemento': 'valor del tercer elemento',\n",
       " 'cuarto_elemento': 'valor del cuarto elemento'}"
      ]
     },
     "execution_count": 13,
     "metadata": {},
     "output_type": "execute_result"
    }
   ],
   "source": [
    "mi_diccionario[\"cuarto_elemento\"] = \"valor del cuarto elemento\"\n",
    "mi_diccionario"
   ]
  },
  {
   "cell_type": "markdown",
   "id": "93ceb1e3",
   "metadata": {},
   "source": [
    "# Eliminar"
   ]
  },
  {
   "cell_type": "code",
   "execution_count": 14,
   "id": "eacc1a2c",
   "metadata": {},
   "outputs": [
    {
     "name": "stdout",
     "output_type": "stream",
     "text": [
      "valor del cuarto elemento\n"
     ]
    }
   ],
   "source": [
    "result = mi_diccionario.pop(\"cuarto_elemento\")\n",
    "print(result)"
   ]
  },
  {
   "cell_type": "code",
   "execution_count": 15,
   "id": "275933be",
   "metadata": {},
   "outputs": [
    {
     "data": {
      "text/plain": [
       "{'primer_elemento': 'valor del primer elemento',\n",
       " 'segundo_elemento': 'valor del segundo elemento',\n",
       " 'tercer_elemento': 'valor del tercer elemento'}"
      ]
     },
     "execution_count": 15,
     "metadata": {},
     "output_type": "execute_result"
    }
   ],
   "source": [
    "mi_diccionario"
   ]
  },
  {
   "cell_type": "markdown",
   "id": "c9635ff8",
   "metadata": {},
   "source": [
    "## Sumar dos diccionarios"
   ]
  },
  {
   "cell_type": "code",
   "execution_count": 18,
   "id": "b786eb4b",
   "metadata": {},
   "outputs": [],
   "source": [
    "mi_diccionario = {\"a\": \"b\", \"c\": \"d\"}\n",
    "mi_diccionario2 = {\"e\": \"f\", \"g\": \"h\"}"
   ]
  },
  {
   "cell_type": "code",
   "execution_count": 17,
   "id": "f614b0dc",
   "metadata": {},
   "outputs": [
    {
     "data": {
      "text/plain": [
       "{'a': 'b', 'c': 'd', 'e': 'f', 'g': 'h'}"
      ]
     },
     "execution_count": 17,
     "metadata": {},
     "output_type": "execute_result"
    }
   ],
   "source": [
    "mi_diccionario.update(mi_diccionario2)\n",
    "mi_diccionario"
   ]
  },
  {
   "cell_type": "code",
   "execution_count": 19,
   "id": "9a31f588",
   "metadata": {},
   "outputs": [
    {
     "data": {
      "text/plain": [
       "{'a': 'b', 'c': 'd', 'e': 'f', 'g': 'h'}"
      ]
     },
     "execution_count": 19,
     "metadata": {},
     "output_type": "execute_result"
    }
   ],
   "source": [
    "{**mi_diccionario, **mi_diccionario2}"
   ]
  },
  {
   "cell_type": "markdown",
   "id": "c5a3f548",
   "metadata": {},
   "source": [
    "## Comparar dos diccionarios"
   ]
  },
  {
   "cell_type": "code",
   "execution_count": 20,
   "id": "301dd4f0",
   "metadata": {},
   "outputs": [
    {
     "name": "stdout",
     "output_type": "stream",
     "text": [
      "True\n"
     ]
    }
   ],
   "source": [
    "d1 = {}\n",
    "d1['a'] = 'A'\n",
    "d1['b'] = 'B'\n",
    "d1['c'] = 'C'\n",
    "\n",
    "d2 = {}\n",
    "d2['c'] = 'C'\n",
    "d2['b'] = 'B'\n",
    "d2['a'] = 'A'\n",
    "\n",
    "print(d1 == d2)"
   ]
  },
  {
   "cell_type": "markdown",
   "id": "3fa9517e",
   "metadata": {},
   "source": [
    "# Otros tipos de diccionarios"
   ]
  },
  {
   "cell_type": "markdown",
   "id": "e5cab8de",
   "metadata": {},
   "source": [
    "## defaultdict"
   ]
  },
  {
   "cell_type": "code",
   "execution_count": 21,
   "id": "08953f69",
   "metadata": {},
   "outputs": [],
   "source": [
    "d1 = {}\n",
    "d1[\"a\"] = 0"
   ]
  },
  {
   "cell_type": "code",
   "execution_count": 22,
   "id": "429339fb",
   "metadata": {},
   "outputs": [
    {
     "data": {
      "text/plain": [
       "{'a': 2}"
      ]
     },
     "execution_count": 22,
     "metadata": {},
     "output_type": "execute_result"
    }
   ],
   "source": [
    "d1[\"a\"] += 1\n",
    "d1[\"a\"] += 1\n",
    "d1"
   ]
  },
  {
   "cell_type": "code",
   "execution_count": 24,
   "id": "6a5d38eb",
   "metadata": {},
   "outputs": [],
   "source": [
    "d1[\"b\"] += 1"
   ]
  },
  {
   "cell_type": "code",
   "execution_count": 32,
   "id": "1e477235",
   "metadata": {},
   "outputs": [
    {
     "data": {
      "text/plain": [
       "defaultdict(int, {})"
      ]
     },
     "execution_count": 32,
     "metadata": {},
     "output_type": "execute_result"
    }
   ],
   "source": [
    "from collections import defaultdict\n",
    "\n",
    "d_default = defaultdict(int)\n",
    "d_default"
   ]
  },
  {
   "cell_type": "code",
   "execution_count": 35,
   "id": "5e13c9bd",
   "metadata": {},
   "outputs": [
    {
     "data": {
      "text/plain": [
       "0"
      ]
     },
     "execution_count": 35,
     "metadata": {},
     "output_type": "execute_result"
    }
   ],
   "source": [
    "d_default[\"c\"]"
   ]
  },
  {
   "cell_type": "code",
   "execution_count": 36,
   "id": "0a8c4304",
   "metadata": {},
   "outputs": [
    {
     "data": {
      "text/plain": [
       "defaultdict(int, {'c': 0, 'a': 1})"
      ]
     },
     "execution_count": 36,
     "metadata": {},
     "output_type": "execute_result"
    }
   ],
   "source": [
    "d_default[\"a\"] += 1\n",
    "d_default"
   ]
  },
  {
   "cell_type": "markdown",
   "id": "1af607fb",
   "metadata": {},
   "source": [
    "## Counter"
   ]
  },
  {
   "cell_type": "code",
   "execution_count": 37,
   "id": "d6071433",
   "metadata": {},
   "outputs": [
    {
     "data": {
      "text/plain": [
       "Counter({'gatico': 2, 'perrico': 1, 'paloma': 1})"
      ]
     },
     "execution_count": 37,
     "metadata": {},
     "output_type": "execute_result"
    }
   ],
   "source": [
    "from collections import Counter\n",
    "\n",
    "c = Counter([\"gatico\", \"perrico\", \"paloma\", \"gatico\"])\n",
    "c"
   ]
  },
  {
   "cell_type": "code",
   "execution_count": 38,
   "id": "85f3dd4a",
   "metadata": {},
   "outputs": [
    {
     "data": {
      "text/plain": [
       "Counter({'gatico': 2, 'perrico': 3, 'paloma': 4})"
      ]
     },
     "execution_count": 38,
     "metadata": {},
     "output_type": "execute_result"
    }
   ],
   "source": [
    "c.update({\"perrico\": 2, \"paloma\": 3})\n",
    "c"
   ]
  },
  {
   "cell_type": "code",
   "execution_count": 41,
   "id": "b7561b89",
   "metadata": {},
   "outputs": [
    {
     "data": {
      "text/plain": [
       "0"
      ]
     },
     "execution_count": 41,
     "metadata": {},
     "output_type": "execute_result"
    }
   ],
   "source": [
    "c[\"elefante\"]"
   ]
  },
  {
   "cell_type": "markdown",
   "id": "c54b6522",
   "metadata": {},
   "source": [
    "## Diccionarios como atributos, al igual que los namedtuples"
   ]
  },
  {
   "cell_type": "code",
   "execution_count": 42,
   "id": "1d33ef97",
   "metadata": {},
   "outputs": [],
   "source": [
    "class MyDict:\n",
    "    data = {}\n",
    "    \n",
    "    def __setattr__(self, name, value):\n",
    "        self.data[name] = value\n",
    "    \n",
    "    def __getattr__(self, name):\n",
    "        return self.data[name]\n",
    "    \n",
    "my_dict = MyDict()"
   ]
  },
  {
   "cell_type": "code",
   "execution_count": 43,
   "id": "7d7b4a48",
   "metadata": {},
   "outputs": [],
   "source": [
    "my_dict.gatico = 5\n",
    "my_dict.perrito = 10"
   ]
  },
  {
   "cell_type": "code",
   "execution_count": 44,
   "id": "4dce6eec",
   "metadata": {},
   "outputs": [
    {
     "data": {
      "text/plain": [
       "10"
      ]
     },
     "execution_count": 44,
     "metadata": {},
     "output_type": "execute_result"
    }
   ],
   "source": [
    "my_dict.perrito"
   ]
  },
  {
   "cell_type": "code",
   "execution_count": 45,
   "id": "37a6bf05",
   "metadata": {},
   "outputs": [
    {
     "data": {
      "text/plain": [
       "5"
      ]
     },
     "execution_count": 45,
     "metadata": {},
     "output_type": "execute_result"
    }
   ],
   "source": [
    "my_dict.gatico"
   ]
  },
  {
   "cell_type": "code",
   "execution_count": 46,
   "id": "0eb03881",
   "metadata": {},
   "outputs": [
    {
     "data": {
      "text/plain": [
       "{'gatico': 5, 'perrito': 10}"
      ]
     },
     "execution_count": 46,
     "metadata": {},
     "output_type": "execute_result"
    }
   ],
   "source": [
    "my_dict.data"
   ]
  }
 ],
 "metadata": {
  "kernelspec": {
   "display_name": "Python 3 (ipykernel)",
   "language": "python",
   "name": "python3"
  },
  "language_info": {
   "codemirror_mode": {
    "name": "ipython",
    "version": 3
   },
   "file_extension": ".py",
   "mimetype": "text/x-python",
   "name": "python",
   "nbconvert_exporter": "python",
   "pygments_lexer": "ipython3",
   "version": "3.8.10"
  }
 },
 "nbformat": 4,
 "nbformat_minor": 5
}
