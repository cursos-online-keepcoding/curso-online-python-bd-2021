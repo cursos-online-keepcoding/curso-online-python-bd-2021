{
 "cells": [
  {
   "cell_type": "markdown",
   "id": "64e74a73",
   "metadata": {},
   "source": [
    "# Obtener el bytecode"
   ]
  },
  {
   "cell_type": "code",
   "execution_count": 1,
   "id": "215d4289",
   "metadata": {},
   "outputs": [],
   "source": [
    "def hello():\n",
    "    print(\"Hello, World!\")"
   ]
  },
  {
   "cell_type": "code",
   "execution_count": 2,
   "id": "1dbf742b",
   "metadata": {},
   "outputs": [],
   "source": [
    "import dis"
   ]
  },
  {
   "cell_type": "code",
   "execution_count": 3,
   "id": "a90a7cbe",
   "metadata": {},
   "outputs": [
    {
     "name": "stdout",
     "output_type": "stream",
     "text": [
      "  2           0 LOAD_GLOBAL              0 (print)\n",
      "              2 LOAD_CONST               1 ('Hello, World!')\n",
      "              4 CALL_FUNCTION            1\n",
      "              6 POP_TOP\n",
      "              8 LOAD_CONST               0 (None)\n",
      "             10 RETURN_VALUE\n"
     ]
    }
   ],
   "source": [
    "dis.dis(hello)"
   ]
  },
  {
   "cell_type": "code",
   "execution_count": 1,
   "id": "8a866303",
   "metadata": {},
   "outputs": [],
   "source": [
    "def mi_funcion_que_hace_cosas(string_a):\n",
    "    string_a = string_a + 1\n",
    "    return string_a"
   ]
  },
  {
   "cell_type": "code",
   "execution_count": 3,
   "id": "34792f05",
   "metadata": {},
   "outputs": [
    {
     "name": "stdout",
     "output_type": "stream",
     "text": [
      "  2           0 LOAD_FAST                0 (string_a)\n",
      "              2 LOAD_CONST               1 (1)\n",
      "              4 BINARY_ADD\n",
      "              6 STORE_FAST               0 (string_a)\n",
      "\n",
      "  3           8 LOAD_FAST                0 (string_a)\n",
      "             10 RETURN_VALUE\n"
     ]
    }
   ],
   "source": [
    "dis.dis(mi_funcion_que_hace_cosas)"
   ]
  },
  {
   "cell_type": "code",
   "execution_count": 12,
   "id": "02752980",
   "metadata": {},
   "outputs": [],
   "source": [
    "def mi_funcion_que_crea_un_diccionario():\n",
    "    mi_diccionario = {\"a\": \"b\"}"
   ]
  },
  {
   "cell_type": "code",
   "execution_count": 15,
   "id": "fd51abd5",
   "metadata": {},
   "outputs": [
    {
     "name": "stdout",
     "output_type": "stream",
     "text": [
      "  2           0 LOAD_CONST               1 ('a')\n",
      "              2 LOAD_CONST               2 ('b')\n",
      "              4 BUILD_MAP                1\n",
      "              6 STORE_FAST               0 (mi_diccionario)\n",
      "              8 LOAD_CONST               0 (None)\n",
      "             10 RETURN_VALUE\n"
     ]
    }
   ],
   "source": [
    "dis.dis(mi_funcion_que_crea_un_diccionario)"
   ]
  },
  {
   "cell_type": "code",
   "execution_count": 7,
   "id": "409ef3fd",
   "metadata": {},
   "outputs": [
    {
     "data": {
      "text/plain": [
       "[1, 2, 3, 2, 3, 4]"
      ]
     },
     "execution_count": 7,
     "metadata": {},
     "output_type": "execute_result"
    }
   ],
   "source": [
    "def mi_funcion_que_hace_cosas_con_listas_y_tuplas_1(lista_a, tupla_b):\n",
    "    lista_a += tupla_b\n",
    "    return lista_a\n",
    "\n",
    "mi_funcion_que_hace_cosas_con_listas_y_tuplas_1([1, 2, 3], (2,3,4))"
   ]
  },
  {
   "cell_type": "code",
   "execution_count": 48,
   "id": "98ffdc23",
   "metadata": {},
   "outputs": [
    {
     "name": "stdout",
     "output_type": "stream",
     "text": [
      "  2           0 LOAD_FAST                0 (lista_a)\n",
      "              2 LOAD_FAST                1 (tupla_b)\n",
      "              4 INPLACE_ADD\n",
      "              6 STORE_FAST               0 (lista_a)\n",
      "\n",
      "  3           8 LOAD_FAST                0 (lista_a)\n",
      "             10 RETURN_VALUE\n"
     ]
    }
   ],
   "source": [
    "dis.dis(mi_funcion_que_hace_cosas_con_listas_y_tuplas_1)"
   ]
  },
  {
   "cell_type": "markdown",
   "id": "1d2f68da",
   "metadata": {},
   "source": [
    "# Qué significa cada columna"
   ]
  },
  {
   "cell_type": "markdown",
   "id": "73f9bf1c",
   "metadata": {},
   "source": [
    "|  Línea      | Bytes | Acción       | Variable/argumento  |\n",
    "|-------------|---|------------------|---------------------|\n",
    "|  2          | 0 | LOAD_FAST               | 0 (lista_a)  |\n",
    "|             | 2 | LOAD_FAST               | 1 (tupla_b)  |\n",
    "|             | 4 | INPLACE_ADD             |              |\n",
    "|             | 6 | STORE_FAST              | 0 (lista_a)  |\n",
    "|             |   |                         |              |\n",
    "|  3          | 8 | LOAD_FAST               | 0 (lista_a)  |\n",
    "|             |10 | RETURN_VALUE            |              |"
   ]
  },
  {
   "cell_type": "code",
   "execution_count": 49,
   "id": "b6b33c71",
   "metadata": {
    "scrolled": true
   },
   "outputs": [
    {
     "data": {
      "text/plain": [
       "('lista_a', 'tupla_b')"
      ]
     },
     "execution_count": 49,
     "metadata": {},
     "output_type": "execute_result"
    }
   ],
   "source": [
    "mi_funcion_que_hace_cosas_con_listas_y_tuplas_1.__code__.co_varnames"
   ]
  },
  {
   "cell_type": "code",
   "execution_count": 46,
   "id": "b91b0633",
   "metadata": {},
   "outputs": [
    {
     "data": {
      "text/plain": [
       "()"
      ]
     },
     "execution_count": 46,
     "metadata": {},
     "output_type": "execute_result"
    }
   ],
   "source": [
    "mi_funcion_que_hace_cosas_con_listas_y_tuplas_1.__code__.co_names"
   ]
  },
  {
   "cell_type": "code",
   "execution_count": 8,
   "id": "56fb6af1",
   "metadata": {},
   "outputs": [
    {
     "data": {
      "text/plain": [
       "1"
      ]
     },
     "execution_count": 8,
     "metadata": {},
     "output_type": "execute_result"
    }
   ],
   "source": [
    "mi_funcion_que_hace_cosas_con_listas_y_tuplas_1.__code__.co_firstlineno"
   ]
  },
  {
   "cell_type": "code",
   "execution_count": 9,
   "id": "1a567991",
   "metadata": {},
   "outputs": [
    {
     "data": {
      "text/plain": [
       "'mi_funcion_que_hace_cosas_con_listas_y_tuplas_1'"
      ]
     },
     "execution_count": 9,
     "metadata": {},
     "output_type": "execute_result"
    }
   ],
   "source": [
    "mi_funcion_que_hace_cosas_con_listas_y_tuplas_1.__code__.co_name"
   ]
  },
  {
   "cell_type": "code",
   "execution_count": 10,
   "id": "3525e53f",
   "metadata": {},
   "outputs": [
    {
     "data": {
      "text/plain": [
       "b'|\\x00|\\x017\\x00}\\x00|\\x00S\\x00'"
      ]
     },
     "execution_count": 10,
     "metadata": {},
     "output_type": "execute_result"
    }
   ],
   "source": [
    "mi_funcion_que_hace_cosas_con_listas_y_tuplas_1.__code__.co_code"
   ]
  },
  {
   "cell_type": "code",
   "execution_count": 13,
   "id": "56f93740",
   "metadata": {},
   "outputs": [
    {
     "data": {
      "text/plain": [
       "b'|\\x00|\\x017\\x00}\\x00|\\x00S\\x00'"
      ]
     },
     "execution_count": 13,
     "metadata": {},
     "output_type": "execute_result"
    }
   ],
   "source": [
    "b''.join([bytes(chr(i), encoding=\"utf-8\") for i in mi_funcion_que_hace_cosas_con_listas_y_tuplas_1.__code__.co_code])"
   ]
  },
  {
   "cell_type": "code",
   "execution_count": 14,
   "id": "3ec0fbe8",
   "metadata": {},
   "outputs": [
    {
     "data": {
      "text/plain": [
       "[1, 2, 3, 2, 3, 4, 10]"
      ]
     },
     "execution_count": 14,
     "metadata": {},
     "output_type": "execute_result"
    }
   ],
   "source": [
    "MI_VARIABLE_GLOBAL = 10\n",
    "def mi_funcion_que_hace_cosas_con_listas_y_tuplas_2(lista_a, tupla_b):\n",
    "    lista_a += tupla_b\n",
    "    lista_a += [MI_VARIABLE_GLOBAL]\n",
    "    return lista_a\n",
    "\n",
    "mi_funcion_que_hace_cosas_con_listas_y_tuplas_2([1, 2, 3], (2,3,4))"
   ]
  },
  {
   "cell_type": "code",
   "execution_count": 53,
   "id": "a0d18d14",
   "metadata": {},
   "outputs": [
    {
     "name": "stdout",
     "output_type": "stream",
     "text": [
      "  3           0 LOAD_FAST                0 (lista_a)\n",
      "              2 LOAD_FAST                1 (tupla_b)\n",
      "              4 INPLACE_ADD\n",
      "              6 STORE_FAST               0 (lista_a)\n",
      "\n",
      "  4           8 LOAD_FAST                0 (lista_a)\n",
      "             10 LOAD_GLOBAL              0 (MI_VARIABLE_GLOBAL)\n",
      "             12 BUILD_LIST               1\n",
      "             14 INPLACE_ADD\n",
      "             16 STORE_FAST               0 (lista_a)\n",
      "\n",
      "  5          18 LOAD_FAST                0 (lista_a)\n",
      "             20 RETURN_VALUE\n"
     ]
    }
   ],
   "source": [
    "dis.dis(mi_funcion_que_hace_cosas_con_listas_y_tuplas_2)"
   ]
  },
  {
   "cell_type": "code",
   "execution_count": 15,
   "id": "9a06ac6d",
   "metadata": {},
   "outputs": [
    {
     "data": {
      "text/plain": [
       "('lista_a', 'tupla_b')"
      ]
     },
     "execution_count": 15,
     "metadata": {},
     "output_type": "execute_result"
    }
   ],
   "source": [
    "mi_funcion_que_hace_cosas_con_listas_y_tuplas_2.__code__.co_varnames"
   ]
  },
  {
   "cell_type": "code",
   "execution_count": 16,
   "id": "4c7b202b",
   "metadata": {},
   "outputs": [
    {
     "data": {
      "text/plain": [
       "('MI_VARIABLE_GLOBAL',)"
      ]
     },
     "execution_count": 16,
     "metadata": {},
     "output_type": "execute_result"
    }
   ],
   "source": [
    "mi_funcion_que_hace_cosas_con_listas_y_tuplas_2.__code__.co_names"
   ]
  },
  {
   "cell_type": "markdown",
   "id": "9f9a115f",
   "metadata": {},
   "source": [
    "##  Desambladador por texto"
   ]
  },
  {
   "cell_type": "code",
   "execution_count": 17,
   "id": "c076bd47",
   "metadata": {},
   "outputs": [
    {
     "name": "stdout",
     "output_type": "stream",
     "text": [
      "  1           0 LOAD_NAME                0 (l1)\n",
      "              2 LOAD_CONST               0 ((1, 2))\n",
      "              4 INPLACE_ADD\n",
      "              6 STORE_NAME               0 (l1)\n",
      "              8 LOAD_CONST               1 (None)\n",
      "             10 RETURN_VALUE\n"
     ]
    }
   ],
   "source": [
    "dis.dis('l1 += (1,2)')"
   ]
  },
  {
   "cell_type": "markdown",
   "id": "ee538080",
   "metadata": {},
   "source": [
    "# Aplicaciones del Bytecode"
   ]
  },
  {
   "cell_type": "markdown",
   "id": "1e2d2a80",
   "metadata": {},
   "source": [
    "## Entender como funciona Python"
   ]
  },
  {
   "cell_type": "markdown",
   "id": "51370aec",
   "metadata": {},
   "source": [
    "### ¿Por qué una lista comprimida es más rápida que un bucle normal?"
   ]
  },
  {
   "cell_type": "code",
   "execution_count": 18,
   "id": "4496fbb9",
   "metadata": {},
   "outputs": [
    {
     "name": "stdout",
     "output_type": "stream",
     "text": [
      "  2           0 BUILD_LIST               0\n",
      "              2 STORE_FAST               1 (result)\n",
      "\n",
      "  3           4 LOAD_GLOBAL              0 (range)\n",
      "              6 LOAD_FAST                0 (a)\n",
      "              8 CALL_FUNCTION            1\n",
      "             10 GET_ITER\n",
      "        >>   12 FOR_ITER                14 (to 28)\n",
      "             14 STORE_FAST               2 (i)\n",
      "\n",
      "  4          16 LOAD_FAST                1 (result)\n",
      "             18 LOAD_METHOD              1 (append)\n",
      "             20 LOAD_FAST                2 (i)\n",
      "             22 CALL_METHOD              1\n",
      "             24 POP_TOP\n",
      "             26 JUMP_ABSOLUTE           12\n",
      "\n",
      "  5     >>   28 LOAD_FAST                1 (result)\n",
      "             30 RETURN_VALUE\n"
     ]
    }
   ],
   "source": [
    "def mi_func(a):\n",
    "    result = []\n",
    "    for i in range(a):\n",
    "        result.append(i)\n",
    "    return result\n",
    "\n",
    "dis.dis(mi_func)"
   ]
  },
  {
   "cell_type": "code",
   "execution_count": 19,
   "id": "1b69ab7b",
   "metadata": {},
   "outputs": [
    {
     "name": "stdout",
     "output_type": "stream",
     "text": [
      "  2           0 LOAD_CONST               1 (<code object <listcomp> at 0x7fb5042cb9d0, file \"/tmp/ipykernel_48712/2411436833.py\", line 2>)\n",
      "              2 LOAD_CONST               2 ('mi_func.<locals>.<listcomp>')\n",
      "              4 MAKE_FUNCTION            0\n",
      "              6 LOAD_GLOBAL              0 (range)\n",
      "              8 LOAD_FAST                0 (a)\n",
      "             10 CALL_FUNCTION            1\n",
      "             12 GET_ITER\n",
      "             14 CALL_FUNCTION            1\n",
      "             16 STORE_FAST               1 (result)\n",
      "\n",
      "  3          18 LOAD_FAST                1 (result)\n",
      "             20 RETURN_VALUE\n",
      "\n",
      "Disassembly of <code object <listcomp> at 0x7fb5042cb9d0, file \"/tmp/ipykernel_48712/2411436833.py\", line 2>:\n",
      "  2           0 BUILD_LIST               0\n",
      "              2 LOAD_FAST                0 (.0)\n",
      "        >>    4 FOR_ITER                 8 (to 14)\n",
      "              6 STORE_FAST               1 (i)\n",
      "              8 LOAD_FAST                1 (i)\n",
      "             10 LIST_APPEND              2\n",
      "             12 JUMP_ABSOLUTE            4\n",
      "        >>   14 RETURN_VALUE\n"
     ]
    }
   ],
   "source": [
    "def mi_func(a):\n",
    "    result = [i for i in range(a)]\n",
    "    return result\n",
    "\n",
    "dis.dis(mi_func)"
   ]
  },
  {
   "cell_type": "markdown",
   "id": "0eb88cfa",
   "metadata": {},
   "source": [
    "## Ver los pasos de una condición compleja"
   ]
  },
  {
   "cell_type": "code",
   "execution_count": 20,
   "id": "cd40101a",
   "metadata": {},
   "outputs": [
    {
     "ename": "AttributeError",
     "evalue": "'NoneType' object has no attribute 'mi_metodo'",
     "output_type": "error",
     "traceback": [
      "\u001b[0;31m---------------------------------------------------------------------------\u001b[0m",
      "\u001b[0;31mAttributeError\u001b[0m                            Traceback (most recent call last)",
      "\u001b[0;32m/tmp/ipykernel_48712/2442228172.py\u001b[0m in \u001b[0;36m<module>\u001b[0;34m\u001b[0m\n\u001b[1;32m      3\u001b[0m         \u001b[0;32mreturn\u001b[0m \u001b[0;34m\"a\"\u001b[0m\u001b[0;34m\u001b[0m\u001b[0;34m\u001b[0m\u001b[0m\n\u001b[1;32m      4\u001b[0m \u001b[0;34m\u001b[0m\u001b[0m\n\u001b[0;32m----> 5\u001b[0;31m \u001b[0mmi_func_method\u001b[0m\u001b[0;34m(\u001b[0m\u001b[0;32mNone\u001b[0m\u001b[0;34m)\u001b[0m\u001b[0;34m\u001b[0m\u001b[0;34m\u001b[0m\u001b[0m\n\u001b[0m",
      "\u001b[0;32m/tmp/ipykernel_48712/2442228172.py\u001b[0m in \u001b[0;36mmi_func_method\u001b[0;34m(a)\u001b[0m\n\u001b[1;32m      1\u001b[0m \u001b[0;32mdef\u001b[0m \u001b[0mmi_func_method\u001b[0m\u001b[0;34m(\u001b[0m\u001b[0ma\u001b[0m\u001b[0;34m)\u001b[0m\u001b[0;34m:\u001b[0m\u001b[0;34m\u001b[0m\u001b[0;34m\u001b[0m\u001b[0m\n\u001b[0;32m----> 2\u001b[0;31m     \u001b[0;32mif\u001b[0m \u001b[0ma\u001b[0m\u001b[0;34m.\u001b[0m\u001b[0mmi_metodo\u001b[0m\u001b[0;34m:\u001b[0m\u001b[0;34m\u001b[0m\u001b[0;34m\u001b[0m\u001b[0m\n\u001b[0m\u001b[1;32m      3\u001b[0m         \u001b[0;32mreturn\u001b[0m \u001b[0;34m\"a\"\u001b[0m\u001b[0;34m\u001b[0m\u001b[0;34m\u001b[0m\u001b[0m\n\u001b[1;32m      4\u001b[0m \u001b[0;34m\u001b[0m\u001b[0m\n\u001b[1;32m      5\u001b[0m \u001b[0mmi_func_method\u001b[0m\u001b[0;34m(\u001b[0m\u001b[0;32mNone\u001b[0m\u001b[0;34m)\u001b[0m\u001b[0;34m\u001b[0m\u001b[0;34m\u001b[0m\u001b[0m\n",
      "\u001b[0;31mAttributeError\u001b[0m: 'NoneType' object has no attribute 'mi_metodo'"
     ]
    }
   ],
   "source": [
    "def mi_func_method(a):\n",
    "    if a.mi_metodo:\n",
    "        return \"a\"\n",
    "    \n",
    "mi_func_method(None)"
   ]
  },
  {
   "cell_type": "code",
   "execution_count": 21,
   "id": "3b6458b3",
   "metadata": {},
   "outputs": [],
   "source": [
    "def mi_func_method(a):\n",
    "    if a and a.mi_metodo:\n",
    "        return \"a\"\n",
    "    \n",
    "mi_func_method(None)"
   ]
  },
  {
   "cell_type": "code",
   "execution_count": 22,
   "id": "75d11889",
   "metadata": {},
   "outputs": [
    {
     "name": "stdout",
     "output_type": "stream",
     "text": [
      "  2           0 LOAD_FAST                0 (a)\n",
      "              2 POP_JUMP_IF_FALSE       44\n",
      "              4 LOAD_GLOBAL              0 (len)\n",
      "              6 LOAD_FAST                0 (a)\n",
      "              8 CALL_FUNCTION            1\n",
      "             10 LOAD_CONST               1 (0)\n",
      "             12 COMPARE_OP               4 (>)\n",
      "             14 POP_JUMP_IF_FALSE       44\n",
      "             16 LOAD_FAST                0 (a)\n",
      "             18 LOAD_CONST               2 ('b')\n",
      "             20 COMPARE_OP               2 (==)\n",
      "             22 POP_JUMP_IF_TRUE        44\n",
      "             24 LOAD_FAST                0 (a)\n",
      "             26 LOAD_CONST               3 ('c')\n",
      "             28 COMPARE_OP               2 (==)\n",
      "             30 POP_JUMP_IF_FALSE       40\n",
      "             32 LOAD_GLOBAL              1 (c)\n",
      "             34 LOAD_CONST               4 ('d')\n",
      "             36 COMPARE_OP               2 (==)\n",
      "             38 POP_JUMP_IF_TRUE        44\n",
      "\n",
      "  3     >>   40 LOAD_FAST                0 (a)\n",
      "             42 RETURN_VALUE\n",
      "        >>   44 LOAD_CONST               0 (None)\n",
      "             46 RETURN_VALUE\n"
     ]
    }
   ],
   "source": [
    "def mi_func(a):\n",
    "    if a and len(a) > 0 and not (a == \"b\" or a == \"c\" and c == \"d\"):\n",
    "        return a\n",
    "\n",
    "dis.dis(mi_func)"
   ]
  },
  {
   "cell_type": "code",
   "execution_count": null,
   "id": "33fbf841",
   "metadata": {},
   "outputs": [],
   "source": []
  },
  {
   "cell_type": "markdown",
   "id": "6040949b",
   "metadata": {},
   "source": [
    "## Reemplazos a bajo nivel"
   ]
  },
  {
   "cell_type": "code",
   "execution_count": 24,
   "id": "bb79b5d8",
   "metadata": {},
   "outputs": [
    {
     "name": "stdout",
     "output_type": "stream",
     "text": [
      "  2           0 LOAD_FAST                0 (a)\n",
      "              2 LOAD_FAST                1 (b)\n",
      "              4 BINARY_ADD\n",
      "              6 STORE_FAST               2 (result)\n",
      "\n",
      "  3           8 LOAD_FAST                2 (result)\n",
      "             10 RETURN_VALUE\n"
     ]
    }
   ],
   "source": [
    "def suma(a, b):\n",
    "    result = a + b\n",
    "    return result\n",
    "\n",
    "dis.dis(suma)"
   ]
  },
  {
   "cell_type": "code",
   "execution_count": 25,
   "id": "df40f00a",
   "metadata": {},
   "outputs": [
    {
     "data": {
      "text/plain": [
       "1"
      ]
     },
     "execution_count": 25,
     "metadata": {},
     "output_type": "execute_result"
    }
   ],
   "source": [
    "from types import CodeType\n",
    "\n",
    "CODE_BINARY_ADD = dis.opmap.get('BINARY_ADD')\n",
    "CODE_BINARY_SUBTRACT = dis.opmap.get('BINARY_SUBTRACT')\n",
    "\n",
    "\n",
    "new_code = b''\n",
    "for i in range(len(suma.__code__.co_code)):\n",
    "    if suma.__code__.co_code[i] == CODE_BINARY_ADD:\n",
    "        new_code += bytes(chr(CODE_BINARY_SUBTRACT), encoding=\"utf-8\")\n",
    "    else:\n",
    "        new_code += bytes(chr(suma.__code__.co_code[i]), encoding=\"utf-8\")\n",
    "\n",
    "suma.__code__ = CodeType(\n",
    "            suma.__code__.co_argcount,\n",
    "            suma.__code__.co_posonlyargcount,\n",
    "            suma.__code__.co_kwonlyargcount,\n",
    "            suma.__code__.co_nlocals,\n",
    "            suma.__code__.co_stacksize,\n",
    "            suma.__code__.co_flags,\n",
    "            new_code,\n",
    "            suma.__code__.co_consts,\n",
    "            suma.__code__.co_names,\n",
    "            suma.__code__.co_varnames,\n",
    "            suma.__code__.co_filename,\n",
    "            suma.__code__.co_name,\n",
    "            suma.__code__.co_firstlineno,\n",
    "            suma.__code__.co_lnotab,\n",
    "            suma.__code__.co_freevars,\n",
    "            suma.__code__.co_cellvars)\n",
    "\n",
    "suma(3, 2)"
   ]
  },
  {
   "cell_type": "code",
   "execution_count": 26,
   "id": "5620f066",
   "metadata": {},
   "outputs": [
    {
     "name": "stdout",
     "output_type": "stream",
     "text": [
      "  2           0 LOAD_FAST                0 (a)\n",
      "              2 LOAD_FAST                1 (b)\n",
      "              4 BINARY_SUBTRACT\n",
      "              6 STORE_FAST               2 (result)\n",
      "\n",
      "  3           8 LOAD_FAST                2 (result)\n",
      "             10 RETURN_VALUE\n"
     ]
    }
   ],
   "source": [
    "dis.dis(suma)"
   ]
  }
 ],
 "metadata": {
  "kernelspec": {
   "display_name": "Python 3 (ipykernel)",
   "language": "python",
   "name": "python3"
  },
  "language_info": {
   "codemirror_mode": {
    "name": "ipython",
    "version": 3
   },
   "file_extension": ".py",
   "mimetype": "text/x-python",
   "name": "python",
   "nbconvert_exporter": "python",
   "pygments_lexer": "ipython3",
   "version": "3.8.10"
  }
 },
 "nbformat": 4,
 "nbformat_minor": 5
}
