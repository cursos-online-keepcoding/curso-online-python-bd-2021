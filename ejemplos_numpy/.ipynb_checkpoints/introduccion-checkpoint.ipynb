{
 "cells": [
  {
   "cell_type": "markdown",
   "id": "31d9a264",
   "metadata": {},
   "source": [
    "# Instalando numpy"
   ]
  },
  {
   "cell_type": "markdown",
   "id": "def179c1",
   "metadata": {},
   "source": [
    "```bash\n",
    "pip install numpy\n",
    "```"
   ]
  },
  {
   "cell_type": "markdown",
   "id": "a57a372b",
   "metadata": {},
   "source": [
    "## Otras librerías que se usan en los ejemplos"
   ]
  },
  {
   "cell_type": "markdown",
   "id": "fe63fb53",
   "metadata": {},
   "source": [
    "### Matplotlib, gráficas\n",
    "\n",
    "```bash\n",
    "pip install matplotlib\n",
    "```"
   ]
  },
  {
   "cell_type": "markdown",
   "id": "bcb6595b",
   "metadata": {},
   "source": [
    "## OpenCV, trabajando con imagen y videos\n",
    "\n",
    "```bash\n",
    "pip install opencv-python\n",
    "```"
   ]
  },
  {
   "cell_type": "markdown",
   "id": "572a88b7",
   "metadata": {},
   "source": [
    "## Scipy, funciones algebraicas y estadísticas\n",
    "\n",
    "```bash\n",
    "pip install scipy\n",
    "```"
   ]
  },
  {
   "cell_type": "markdown",
   "id": "165cb601",
   "metadata": {},
   "source": [
    "# Diferencia entre arrays de Python y arrays de Numpy"
   ]
  },
  {
   "cell_type": "markdown",
   "id": "74441bd6",
   "metadata": {},
   "source": [
    "## Python"
   ]
  },
  {
   "cell_type": "code",
   "execution_count": null,
   "id": "27481e84",
   "metadata": {},
   "outputs": [],
   "source": [
    "c = [[],[],[]]\n",
    "for i in range(0, 5):\n",
    "    for j in range(0, 3):\n",
    "        c[j].append(i + (j * 5))\n",
    "\n",
    "c"
   ]
  },
  {
   "cell_type": "markdown",
   "id": "60ef84f1",
   "metadata": {},
   "source": [
    "## Numpy, creando arrays"
   ]
  },
  {
   "cell_type": "code",
   "execution_count": null,
   "id": "df9c1962",
   "metadata": {},
   "outputs": [],
   "source": [
    "import numpy as np\n",
    "\n",
    "a = np.arange(15).reshape(3, 5)\n",
    "a"
   ]
  },
  {
   "cell_type": "code",
   "execution_count": null,
   "id": "0b6a9065",
   "metadata": {},
   "outputs": [],
   "source": [
    "np.zeros((3, 4))"
   ]
  },
  {
   "cell_type": "code",
   "execution_count": null,
   "id": "70f68486",
   "metadata": {},
   "outputs": [],
   "source": [
    "np.ones((2, 3, 4), dtype=np.int16)"
   ]
  },
  {
   "cell_type": "markdown",
   "id": "44426e51",
   "metadata": {},
   "source": [
    "## Creando arrays desde objetos de Python"
   ]
  },
  {
   "cell_type": "code",
   "execution_count": null,
   "id": "4ef779d9",
   "metadata": {},
   "outputs": [],
   "source": [
    "np.array([[1, 2], [3, 4]])"
   ]
  },
  {
   "cell_type": "markdown",
   "id": "241102db",
   "metadata": {},
   "source": [
    "# Operaciones con Arrays"
   ]
  },
  {
   "cell_type": "markdown",
   "id": "f58c3e8b",
   "metadata": {},
   "source": [
    "Dividir un array"
   ]
  },
  {
   "cell_type": "code",
   "execution_count": null,
   "id": "baaa7da3",
   "metadata": {},
   "outputs": [],
   "source": [
    "a = np.array([1, 2, 3, 4, 5, 6])"
   ]
  },
  {
   "cell_type": "code",
   "execution_count": null,
   "id": "1921e32f",
   "metadata": {},
   "outputs": [],
   "source": [
    "b = a[:2]\n",
    "\n",
    "print(b)\n",
    "print(a)"
   ]
  },
  {
   "cell_type": "markdown",
   "id": "1155c623",
   "metadata": {},
   "source": [
    "Recordemos que los arrays son objetos Mutables, por tanto si cambiamos uno modificamos todos:"
   ]
  },
  {
   "cell_type": "code",
   "execution_count": null,
   "id": "805dd1b7",
   "metadata": {},
   "outputs": [],
   "source": [
    "b += 1\n",
    "\n",
    "print(b)\n",
    "print(a)"
   ]
  },
  {
   "cell_type": "code",
   "execution_count": null,
   "id": "16053096",
   "metadata": {},
   "outputs": [],
   "source": [
    "a = np.array([1, 2, 3, 4, 5, 6])\n",
    "b = a[:2].copy()\n",
    "\n",
    "b += 1\n",
    "print(b)\n",
    "print(a)"
   ]
  },
  {
   "cell_type": "markdown",
   "id": "6f3a4bfe",
   "metadata": {},
   "source": [
    "Indexado"
   ]
  },
  {
   "cell_type": "code",
   "execution_count": null,
   "id": "7ea2d8fb",
   "metadata": {},
   "outputs": [],
   "source": [
    "a = np.array([1, 2, 3, 4, 5, 6])\n",
    "\n",
    "a[2]"
   ]
  },
  {
   "cell_type": "code",
   "execution_count": null,
   "id": "19d449c0",
   "metadata": {
    "scrolled": true
   },
   "outputs": [],
   "source": [
    "a = np.arange(15).reshape(3, 5)\n",
    "\n",
    "a[1]"
   ]
  },
  {
   "cell_type": "markdown",
   "id": "e98f2604",
   "metadata": {},
   "source": [
    "# Aplicaciones para Numpy"
   ]
  },
  {
   "cell_type": "markdown",
   "id": "f95249ba",
   "metadata": {},
   "source": [
    "# Trabajando con gráficas"
   ]
  },
  {
   "cell_type": "code",
   "execution_count": null,
   "id": "692b09a2",
   "metadata": {
    "scrolled": true
   },
   "outputs": [],
   "source": [
    "import numpy as np \n",
    "from matplotlib import pyplot as plt \n",
    "\n",
    "x = np.arange(1,11) \n",
    "y = 2 * x \n",
    "plt.title(\"Example\") \n",
    "plt.xlabel(\"x axis\") \n",
    "plt.ylabel(\"y axis\") \n",
    "plt.plot(x, y) \n",
    "plt.show()"
   ]
  },
  {
   "cell_type": "markdown",
   "id": "d094f919",
   "metadata": {},
   "source": [
    "## Trabajando con imágenes"
   ]
  },
  {
   "cell_type": "code",
   "execution_count": null,
   "id": "69fb38ad",
   "metadata": {},
   "outputs": [],
   "source": [
    "from scipy import misc\n",
    "img = misc.face()\n",
    "img"
   ]
  },
  {
   "cell_type": "code",
   "execution_count": null,
   "id": "cad29c8a",
   "metadata": {},
   "outputs": [],
   "source": [
    "import matplotlib.pyplot as plt\n",
    "plt.imshow(img)"
   ]
  },
  {
   "cell_type": "code",
   "execution_count": null,
   "id": "bafc1484",
   "metadata": {},
   "outputs": [],
   "source": [
    "img[:, :, 0].shape"
   ]
  },
  {
   "cell_type": "markdown",
   "id": "7ba1666e",
   "metadata": {},
   "source": [
    "Vamos a realizar operaciones de álgebra lineal sobre estos datos, podría ser más interesante tener números reales entre 0 y 1 en cada entrada de las matrices para representar los valores RGB. Podemos hacer eso estableciendo"
   ]
  },
  {
   "cell_type": "code",
   "execution_count": null,
   "id": "8aa2c41e",
   "metadata": {},
   "outputs": [],
   "source": [
    "img_array = img / 255\n",
    "img_gray = img_array @ [0.2126, 0.7152, 0.0722]\n",
    "plt.imshow(img_gray, cmap=\"gray\")"
   ]
  },
  {
   "cell_type": "markdown",
   "id": "edae47b8",
   "metadata": {},
   "source": [
    "## Con OpenCV"
   ]
  },
  {
   "cell_type": "code",
   "execution_count": null,
   "id": "4f3f480f",
   "metadata": {},
   "outputs": [],
   "source": [
    "import numpy as np\n",
    "import cv2\n",
    "\n",
    "# Create a black image\n",
    "img = np.zeros((512,512,3), np.uint8)\n",
    "\n",
    "\n",
    "cv2.line(img,(0,0),(511,511),(255,0,0))\n",
    "\n",
    "cv2.imshow('image',img)\n",
    "cv2.waitKey(0)\n",
    "cv2.destroyAllWindows()\n",
    "\n",
    "# Drawing Rectangle\n",
    "cv2.rectangle(img,(384,0),(511,128),(0,255,0))\n",
    "\n",
    "cv2.imshow('image',img)\n",
    "cv2.waitKey(0)\n",
    "cv2.destroyAllWindows()"
   ]
  }
 ],
 "metadata": {
  "kernelspec": {
   "display_name": "Python 3 (ipykernel)",
   "language": "python",
   "name": "python3"
  },
  "language_info": {
   "codemirror_mode": {
    "name": "ipython",
    "version": 3
   },
   "file_extension": ".py",
   "mimetype": "text/x-python",
   "name": "python",
   "nbconvert_exporter": "python",
   "pygments_lexer": "ipython3",
   "version": "3.8.10"
  }
 },
 "nbformat": 4,
 "nbformat_minor": 5
}
