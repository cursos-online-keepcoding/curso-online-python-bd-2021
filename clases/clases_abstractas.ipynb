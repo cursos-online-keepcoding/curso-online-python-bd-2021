{
 "cells": [
  {
   "cell_type": "markdown",
   "id": "866870e2",
   "metadata": {},
   "source": [
    "# Clases abstractas"
   ]
  },
  {
   "cell_type": "code",
   "execution_count": 1,
   "id": "f4e4e186",
   "metadata": {},
   "outputs": [
    {
     "data": {
      "text/plain": [
       "<__main__.UserRepository at 0x7f14985b43d0>"
      ]
     },
     "execution_count": 1,
     "metadata": {},
     "output_type": "execute_result"
    }
   ],
   "source": [
    "from abc import ABC, abstractmethod\n",
    "\n",
    "\n",
    "class UserRepository(ABC):\n",
    "    def __init__(self, username):\n",
    "        self.__username = username\n",
    "    \n",
    "    @property\n",
    "    def username(self):\n",
    "        return self.__username\n",
    "\n",
    "    def save(self, user_data):\n",
    "        print(f\"User {self} saved\")\n",
    "    \n",
    "    \n",
    "\n",
    "user = UserRepository(username=\"Paco\")\n",
    "user"
   ]
  },
  {
   "cell_type": "code",
   "execution_count": 2,
   "id": "c1db38cc",
   "metadata": {},
   "outputs": [
    {
     "name": "stdout",
     "output_type": "stream",
     "text": [
      "User <__main__.UserRepository object at 0x7f14985b43d0> saved\n"
     ]
    }
   ],
   "source": [
    "user.save(user_data=[])"
   ]
  },
  {
   "cell_type": "markdown",
   "id": "5314e4e8",
   "metadata": {},
   "source": [
    "Una \"auténtica\" clase abstracta, hereda de la clase ABC y contiene métodos abstractos para que se comporte como tal:"
   ]
  },
  {
   "cell_type": "code",
   "execution_count": 3,
   "id": "8d78726a",
   "metadata": {},
   "outputs": [
    {
     "ename": "TypeError",
     "evalue": "Can't instantiate abstract class UserRepository with abstract methods save_cls, save_self, username",
     "output_type": "error",
     "traceback": [
      "\u001b[0;31m---------------------------------------------------------------------------\u001b[0m",
      "\u001b[0;31mTypeError\u001b[0m                                 Traceback (most recent call last)",
      "\u001b[0;32m/tmp/ipykernel_55486/2148987422.py\u001b[0m in \u001b[0;36m<module>\u001b[0;34m\u001b[0m\n\u001b[1;32m     18\u001b[0m         \u001b[0mprint\u001b[0m\u001b[0;34m(\u001b[0m\u001b[0;34mf\"User {cls} saved\"\u001b[0m\u001b[0;34m)\u001b[0m\u001b[0;34m\u001b[0m\u001b[0;34m\u001b[0m\u001b[0m\n\u001b[1;32m     19\u001b[0m \u001b[0;34m\u001b[0m\u001b[0m\n\u001b[0;32m---> 20\u001b[0;31m \u001b[0muser\u001b[0m \u001b[0;34m=\u001b[0m \u001b[0mUserRepository\u001b[0m\u001b[0;34m(\u001b[0m\u001b[0musername\u001b[0m\u001b[0;34m=\u001b[0m\u001b[0;34m\"Paco\"\u001b[0m\u001b[0;34m)\u001b[0m\u001b[0;34m\u001b[0m\u001b[0;34m\u001b[0m\u001b[0m\n\u001b[0m\u001b[1;32m     21\u001b[0m \u001b[0muser\u001b[0m\u001b[0;34m\u001b[0m\u001b[0;34m\u001b[0m\u001b[0m\n",
      "\u001b[0;31mTypeError\u001b[0m: Can't instantiate abstract class UserRepository with abstract methods save_cls, save_self, username"
     ]
    }
   ],
   "source": [
    "from abc import ABC, abstractmethod, abstractproperty, abstractclassmethod\n",
    "\n",
    "\n",
    "class UserRepository(ABC):\n",
    "    def __init__(self, username):\n",
    "        self.__username = username\n",
    "    \n",
    "    @abstractproperty\n",
    "    def username(self):\n",
    "        pass\n",
    "\n",
    "    @abstractmethod\n",
    "    def save_self(self, user_data):\n",
    "        pass\n",
    "\n",
    "    @abstractclassmethod\n",
    "    def save_cls(cls, user_data):\n",
    "        pass\n",
    "\n",
    "user = UserRepository(username=\"Paco\")\n",
    "user"
   ]
  },
  {
   "cell_type": "markdown",
   "id": "30d5b413",
   "metadata": {},
   "source": [
    "**@abstractmethod**\n",
    "\n",
    "El uso de este decorador requiere que la clase/metaclase de la clase sea ABCMeta o se derive de ella. No se puede crear una instancia de una clase que tiene una metaclase derivada de ABCMeta a menos que se anulen todos sus métodos abstractos y propiedades.\n"
   ]
  },
  {
   "cell_type": "code",
   "execution_count": 4,
   "id": "46cf5dd3",
   "metadata": {},
   "outputs": [
    {
     "name": "stdout",
     "output_type": "stream",
     "text": [
      "User <class '__main__.UserRepository'> saved\n"
     ]
    }
   ],
   "source": [
    "UserRepository.save_cls(user_data=[])"
   ]
  },
  {
   "cell_type": "code",
   "execution_count": 10,
   "id": "134ccbd6",
   "metadata": {},
   "outputs": [],
   "source": [
    "class AbstractUserRepository(ABC):\n",
    "    __username = \"<NONE>\"\n",
    "\n",
    "    def __init__(self, username):\n",
    "        self.__username = username\n",
    "    \n",
    "    @abstractproperty\n",
    "    def username(self):\n",
    "        pass\n",
    "\n",
    "    @abstractmethod\n",
    "    def save_self(self, user_data):\n",
    "        pass\n",
    "\n",
    "    @abstractclassmethod\n",
    "    def save_cls(cls, user_data):\n",
    "        pass\n",
    "        \n",
    "class MySQLUserRepository(AbstractUserRepository):\n",
    "     pass\n",
    "\n",
    "    \n",
    "class InMemoryUserRepository(AbstractUserRepository):\n",
    "\n",
    "    def username(self):\n",
    "        return self.__username\n",
    "\n",
    "    def save_self(self, user_data):\n",
    "        print(f\"User {self} saved\")\n",
    "\n",
    "    @classmethod\n",
    "    def save_cls(cls, user_data):\n",
    "        print(f\"User {cls} saved\")\n",
    "        "
   ]
  },
  {
   "cell_type": "code",
   "execution_count": 11,
   "id": "595e1eb8",
   "metadata": {},
   "outputs": [
    {
     "ename": "TypeError",
     "evalue": "Can't instantiate abstract class MySQLUserRepository with abstract methods save_self, username",
     "output_type": "error",
     "traceback": [
      "\u001b[0;31m---------------------------------------------------------------------------\u001b[0m",
      "\u001b[0;31mTypeError\u001b[0m                                 Traceback (most recent call last)",
      "\u001b[0;32m/tmp/ipykernel_55486/3916475064.py\u001b[0m in \u001b[0;36m<module>\u001b[0;34m\u001b[0m\n\u001b[0;32m----> 1\u001b[0;31m \u001b[0muser\u001b[0m \u001b[0;34m=\u001b[0m \u001b[0mMySQLUserRepository\u001b[0m\u001b[0;34m(\u001b[0m\u001b[0musername\u001b[0m\u001b[0;34m=\u001b[0m\u001b[0;34m\"Paco\"\u001b[0m\u001b[0;34m)\u001b[0m\u001b[0;34m\u001b[0m\u001b[0;34m\u001b[0m\u001b[0m\n\u001b[0m\u001b[1;32m      2\u001b[0m \u001b[0muser\u001b[0m\u001b[0;34m\u001b[0m\u001b[0;34m\u001b[0m\u001b[0m\n",
      "\u001b[0;31mTypeError\u001b[0m: Can't instantiate abstract class MySQLUserRepository with abstract methods save_self, username"
     ]
    }
   ],
   "source": [
    "user = MySQLUserRepository(username=\"Paco\")\n",
    "user"
   ]
  },
  {
   "cell_type": "code",
   "execution_count": 9,
   "id": "9d572678",
   "metadata": {},
   "outputs": [
    {
     "name": "stdout",
     "output_type": "stream",
     "text": [
      "User <__main__.InMemoryUserRepository object at 0x7f14985b4b50> saved\n"
     ]
    }
   ],
   "source": [
    "user = InMemoryUserRepository(username=\"Paco\")\n",
    "user.save_self(user_data=[])"
   ]
  },
  {
   "cell_type": "code",
   "execution_count": null,
   "id": "92e74c65",
   "metadata": {},
   "outputs": [],
   "source": []
  }
 ],
 "metadata": {
  "kernelspec": {
   "display_name": "Python 3 (ipykernel)",
   "language": "python",
   "name": "python3"
  },
  "language_info": {
   "codemirror_mode": {
    "name": "ipython",
    "version": 3
   },
   "file_extension": ".py",
   "mimetype": "text/x-python",
   "name": "python",
   "nbconvert_exporter": "python",
   "pygments_lexer": "ipython3",
   "version": "3.8.10"
  }
 },
 "nbformat": 4,
 "nbformat_minor": 5
}
