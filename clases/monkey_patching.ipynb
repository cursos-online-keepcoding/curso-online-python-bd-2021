{
 "cells": [
  {
   "cell_type": "code",
   "execution_count": 1,
   "id": "a547d395",
   "metadata": {},
   "outputs": [
    {
     "name": "stdout",
     "output_type": "stream",
     "text": [
      "connect to smpt\n",
      "sending email to test@gmail.com...\n"
     ]
    }
   ],
   "source": [
    "class MailSender:\n",
    "\n",
    "    def __init__(self, account=\"test@gmail.com\", *args, **kwargs):\n",
    "        self.account = account\n",
    "\n",
    "    def connect_to_smpt(self):\n",
    "        print(\"connect to smpt\")\n",
    "\n",
    "    def send(self):\n",
    "        print(\"sending email to {}...\".format(self.account))\n",
    "\n",
    "    def send_email(self):\n",
    "        self.connect_to_smpt()\n",
    "        self.send()\n",
    "        \n",
    "mail_sender = MailSender()\n",
    "mail_sender.send_email()"
   ]
  },
  {
   "cell_type": "code",
   "execution_count": 2,
   "id": "c10b6872",
   "metadata": {},
   "outputs": [
    {
     "name": "stdout",
     "output_type": "stream",
     "text": [
      "connect to smpt\n",
      "Monkey_Patching2\n"
     ]
    }
   ],
   "source": [
    "MailSender.send = lambda x: print(\"Monkey_Patching2\")\n",
    "\n",
    "mail_sender2 = MailSender()\n",
    "\n",
    "mail_sender2.send_email()"
   ]
  },
  {
   "cell_type": "code",
   "execution_count": 3,
   "id": "b5aff3dd",
   "metadata": {},
   "outputs": [
    {
     "name": "stdout",
     "output_type": "stream",
     "text": [
      "connect to smpt\n",
      "Monkey_Patching3\n"
     ]
    }
   ],
   "source": [
    "mail_sender3 = MailSender()\n",
    "\n",
    "MailSender.send = lambda x: print(\"Monkey_Patching3\")\n",
    "\n",
    "mail_sender3.send_email()"
   ]
  },
  {
   "cell_type": "code",
   "execution_count": 4,
   "id": "a270128d",
   "metadata": {},
   "outputs": [
    {
     "name": "stdout",
     "output_type": "stream",
     "text": [
      "connect to smpt\n",
      "Monkey_Patching4\n"
     ]
    }
   ],
   "source": [
    "def mi_funcion_send_mail():\n",
    "    mail_sender4 = MailSender()\n",
    "    mail_sender4.send_email()\n",
    "    \n",
    "MailSender.send = lambda x: print(\"Monkey_Patching4\")\n",
    "\n",
    "mi_funcion_send_mail()"
   ]
  },
  {
   "cell_type": "code",
   "execution_count": 5,
   "id": "8217fed3",
   "metadata": {},
   "outputs": [
    {
     "name": "stdout",
     "output_type": "stream",
     "text": [
      "connect to smpt\n",
      "No hago nada\n"
     ]
    }
   ],
   "source": [
    "def mock_send_email(self):\n",
    "    print(\"No hago nada\")\n",
    "    \n",
    "MailSender.send = mock_send_email\n",
    "\n",
    "mail_sender5 = MailSender()\n",
    "\n",
    "mail_sender5.send_email()"
   ]
  }
 ],
 "metadata": {
  "kernelspec": {
   "display_name": "Python 3 (ipykernel)",
   "language": "python",
   "name": "python3"
  },
  "language_info": {
   "codemirror_mode": {
    "name": "ipython",
    "version": 3
   },
   "file_extension": ".py",
   "mimetype": "text/x-python",
   "name": "python",
   "nbconvert_exporter": "python",
   "pygments_lexer": "ipython3",
   "version": "3.8.10"
  }
 },
 "nbformat": 4,
 "nbformat_minor": 5
}
