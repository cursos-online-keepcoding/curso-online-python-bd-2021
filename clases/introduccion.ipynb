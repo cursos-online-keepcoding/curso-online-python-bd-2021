{
 "cells": [
  {
   "cell_type": "markdown",
   "id": "5dc9cc35",
   "metadata": {},
   "source": [
    "# Clase, conceptos"
   ]
  },
  {
   "cell_type": "code",
   "execution_count": 1,
   "id": "354c3831",
   "metadata": {},
   "outputs": [],
   "source": [
    "class MyClass: # Definición de clase\n",
    "    \"\"\"A simple example class\"\"\"\n",
    "    i = 12345 # Atributo\n",
    "\n",
    "    def say_hello(self, msg): # Método\n",
    "        return 'hello world {}'.format(msg)\n",
    "\n",
    "    "
   ]
  },
  {
   "cell_type": "markdown",
   "id": "1ff47f74",
   "metadata": {},
   "source": [
    "# Objeto"
   ]
  },
  {
   "cell_type": "code",
   "execution_count": 2,
   "id": "d086f981",
   "metadata": {},
   "outputs": [
    {
     "data": {
      "text/plain": [
       "<__main__.MyClass at 0x7ff98c393070>"
      ]
     },
     "execution_count": 2,
     "metadata": {},
     "output_type": "execute_result"
    }
   ],
   "source": [
    "my_class = MyClass()\n",
    "\n",
    "my_class"
   ]
  },
  {
   "cell_type": "code",
   "execution_count": 3,
   "id": "2580fea3",
   "metadata": {},
   "outputs": [
    {
     "data": {
      "text/plain": [
       "'hello world gente'"
      ]
     },
     "execution_count": 3,
     "metadata": {},
     "output_type": "execute_result"
    }
   ],
   "source": [
    "my_class.say_hello(\"gente\")"
   ]
  },
  {
   "cell_type": "markdown",
   "id": "a3efe438",
   "metadata": {},
   "source": [
    "## Argumento Self"
   ]
  },
  {
   "cell_type": "code",
   "execution_count": 4,
   "id": "d5a64042",
   "metadata": {},
   "outputs": [],
   "source": [
    "class MyClass:\n",
    "\n",
    "    def print_self(self):\n",
    "        print(self)\n",
    "        \n",
    "    def return_self(self):\n",
    "        return self"
   ]
  },
  {
   "cell_type": "code",
   "execution_count": 5,
   "id": "4a0661b2",
   "metadata": {},
   "outputs": [
    {
     "name": "stdout",
     "output_type": "stream",
     "text": [
      "<__main__.MyClass object at 0x7ff98c393340>\n"
     ]
    }
   ],
   "source": [
    "my_class = MyClass()\n",
    "\n",
    "my_class.print_self()"
   ]
  },
  {
   "cell_type": "code",
   "execution_count": 6,
   "id": "768fa6ca",
   "metadata": {},
   "outputs": [
    {
     "data": {
      "text/plain": [
       "True"
      ]
     },
     "execution_count": 6,
     "metadata": {},
     "output_type": "execute_result"
    }
   ],
   "source": [
    "my_class is my_class.return_self()"
   ]
  },
  {
   "cell_type": "markdown",
   "id": "49c5cb70",
   "metadata": {},
   "source": [
    "# Constructor"
   ]
  },
  {
   "cell_type": "code",
   "execution_count": 7,
   "id": "e930ef55",
   "metadata": {},
   "outputs": [],
   "source": [
    "class MyClass:\n",
    "    name = \"\"\n",
    "    \n",
    "    def __init__(self, name):\n",
    "        self.name = name\n",
    "        "
   ]
  },
  {
   "cell_type": "code",
   "execution_count": 8,
   "id": "d6be2d4f",
   "metadata": {},
   "outputs": [
    {
     "ename": "TypeError",
     "evalue": "__init__() missing 1 required positional argument: 'name'",
     "output_type": "error",
     "traceback": [
      "\u001b[0;31m---------------------------------------------------------------------------\u001b[0m",
      "\u001b[0;31mTypeError\u001b[0m                                 Traceback (most recent call last)",
      "\u001b[0;32m/tmp/ipykernel_55458/1276724161.py\u001b[0m in \u001b[0;36m<module>\u001b[0;34m\u001b[0m\n\u001b[0;32m----> 1\u001b[0;31m \u001b[0mmy_class\u001b[0m \u001b[0;34m=\u001b[0m \u001b[0mMyClass\u001b[0m\u001b[0;34m(\u001b[0m\u001b[0;34m)\u001b[0m\u001b[0;34m\u001b[0m\u001b[0;34m\u001b[0m\u001b[0m\n\u001b[0m",
      "\u001b[0;31mTypeError\u001b[0m: __init__() missing 1 required positional argument: 'name'"
     ]
    }
   ],
   "source": [
    "my_class = MyClass()"
   ]
  },
  {
   "cell_type": "code",
   "execution_count": 9,
   "id": "e60b0c8a",
   "metadata": {},
   "outputs": [
    {
     "data": {
      "text/plain": [
       "'Paco'"
      ]
     },
     "execution_count": 9,
     "metadata": {},
     "output_type": "execute_result"
    }
   ],
   "source": [
    "my_class = MyClass(\"Paco\")\n",
    "my_class = MyClass(name=\"Paco\")\n",
    "\n",
    "my_class.name"
   ]
  },
  {
   "cell_type": "markdown",
   "id": "4f07e1af",
   "metadata": {},
   "source": [
    "# Visibilidad de los atributos"
   ]
  },
  {
   "cell_type": "code",
   "execution_count": 10,
   "id": "4807eb4b",
   "metadata": {},
   "outputs": [],
   "source": [
    "class MyClass:\n",
    "    _name_protected = \"soy un método protegido\"\n",
    "    __name_private = \"soy un método privado\"\n",
    "    \n",
    "    def say_hello(self, msg): # Método\n",
    "        return 'hello world {}'.format(msg)\n",
    "    \n",
    "my_class = MyClass()"
   ]
  },
  {
   "cell_type": "code",
   "execution_count": 11,
   "id": "bb1560fd",
   "metadata": {},
   "outputs": [
    {
     "data": {
      "text/plain": [
       "'soy un método protegido'"
      ]
     },
     "execution_count": 11,
     "metadata": {},
     "output_type": "execute_result"
    }
   ],
   "source": [
    "my_class._name_protected"
   ]
  },
  {
   "cell_type": "code",
   "execution_count": 12,
   "id": "6e2a174b",
   "metadata": {},
   "outputs": [
    {
     "ename": "AttributeError",
     "evalue": "'MyClass' object has no attribute '__name_private'",
     "output_type": "error",
     "traceback": [
      "\u001b[0;31m---------------------------------------------------------------------------\u001b[0m",
      "\u001b[0;31mAttributeError\u001b[0m                            Traceback (most recent call last)",
      "\u001b[0;32m/tmp/ipykernel_55458/3757319906.py\u001b[0m in \u001b[0;36m<module>\u001b[0;34m\u001b[0m\n\u001b[0;32m----> 1\u001b[0;31m \u001b[0mmy_class\u001b[0m\u001b[0;34m.\u001b[0m\u001b[0m__name_private\u001b[0m\u001b[0;34m\u001b[0m\u001b[0;34m\u001b[0m\u001b[0m\n\u001b[0m",
      "\u001b[0;31mAttributeError\u001b[0m: 'MyClass' object has no attribute '__name_private'"
     ]
    }
   ],
   "source": [
    "my_class.__name_private"
   ]
  },
  {
   "cell_type": "markdown",
   "id": "cd723729",
   "metadata": {},
   "source": [
    "Tip! Python permite acceder igualmente a métodos privados del siguiente modo pero **SE DESACONSEJA SU UTILIZACIÓN BAJO (CASI) CUALQUIER CIRCUNSTANCIA**"
   ]
  },
  {
   "cell_type": "code",
   "execution_count": 13,
   "id": "0f80a2ab",
   "metadata": {},
   "outputs": [
    {
     "data": {
      "text/plain": [
       "'soy un método privado'"
      ]
     },
     "execution_count": 13,
     "metadata": {},
     "output_type": "execute_result"
    }
   ],
   "source": [
    "my_class._MyClass__name_private"
   ]
  },
  {
   "cell_type": "markdown",
   "id": "a9b6bfb7",
   "metadata": {},
   "source": [
    "##  Getters y Setters"
   ]
  },
  {
   "cell_type": "code",
   "execution_count": 14,
   "id": "d32c8cc1",
   "metadata": {},
   "outputs": [
    {
     "data": {
      "text/plain": [
       "'soy privado'"
      ]
     },
     "execution_count": 14,
     "metadata": {},
     "output_type": "execute_result"
    }
   ],
   "source": [
    "class GetterSetterClass:\n",
    "    _mi_atributo_protegido = \"This is a static variable\"\n",
    "    __mi_atributo_privado = \"This is a static variable\"\n",
    "\n",
    "    def __init__(self, mi_atributo_protegido, mi_atributo_privado):\n",
    "        self.set_mi_atributo_protegido(mi_atributo_protegido)\n",
    "        self.set_mi_atributo_privado(mi_atributo_privado)\n",
    "\n",
    "    def set_mi_atributo_protegido(self, value):\n",
    "        self._mi_atributo_protegido = value\n",
    "\n",
    "    def set_mi_atributo_privado(self, value):\n",
    "        self.__mi_atributo_privado = value\n",
    "\n",
    "    def get_mi_atributo_privado(self):\n",
    "        return self.__mi_atributo_privado\n",
    "\n",
    "\n",
    "my_class = GetterSetterClass(mi_atributo_protegido=\"estoy protegido\", mi_atributo_privado=\"soy privado\")\n",
    "my_class.get_mi_atributo_privado()"
   ]
  },
  {
   "cell_type": "markdown",
   "id": "5a41b2f3",
   "metadata": {},
   "source": [
    "##  Getters y Setters forma \"pythonica\""
   ]
  },
  {
   "cell_type": "code",
   "execution_count": 15,
   "id": "010986ef",
   "metadata": {},
   "outputs": [
    {
     "data": {
      "text/plain": [
       "'soy privado'"
      ]
     },
     "execution_count": 15,
     "metadata": {},
     "output_type": "execute_result"
    }
   ],
   "source": [
    "class GetterSetterClass:\n",
    "    _mi_atributo_protegido = \"This is a static variable\"\n",
    "    __mi_atributo_privado = \"This is a static variable\"\n",
    "\n",
    "    def __init__(self, mi_atributo_protegido, mi_atributo_privado):\n",
    "        self._mi_atributo_protegido = mi_atributo_protegido\n",
    "        self.__mi_atributo_privado = mi_atributo_privado\n",
    "\n",
    "    @property\n",
    "    def mi_atributo_protegido(self):\n",
    "        return self._mi_atributo_protegido\n",
    "\n",
    "    @property\n",
    "    def mi_atributo_privado(self):\n",
    "        return self.__mi_atributo_privado\n",
    "    \n",
    "\n",
    "my_class = GetterSetterClass(mi_atributo_protegido=\"estoy protegido\", mi_atributo_privado=\"soy privado\")\n",
    "my_class.mi_atributo_privado"
   ]
  },
  {
   "cell_type": "markdown",
   "id": "89b6b79a",
   "metadata": {},
   "source": [
    "## Más y más Pythonica!"
   ]
  },
  {
   "cell_type": "code",
   "execution_count": 18,
   "id": "c42db7e8",
   "metadata": {},
   "outputs": [],
   "source": [
    "class GetterSetterClass:\n",
    "    __mi_atributo_privado = \"This is a static variable\"\n",
    "\n",
    "    def __init__(self, mi_atributo_privado):\n",
    "        self.__mi_atributo_privado = mi_atributo_privado\n",
    "\n",
    "    @property\n",
    "    def mi_atributo_privado(self):\n",
    "        return self.__mi_atributo_privado + \" 2\"\n",
    "    \n",
    "    @mi_atributo_privado.setter\n",
    "    def mi_atributo_privado(self, value):\n",
    "        self.__mi_atributo_privado = value + \" 1\"\n",
    "\n",
    "\n",
    "my_class = GetterSetterClass(mi_atributo_privado=\"soy privado\")"
   ]
  },
  {
   "cell_type": "code",
   "execution_count": 19,
   "id": "7bf3548b",
   "metadata": {},
   "outputs": [
    {
     "data": {
      "text/plain": [
       "'soy privado, pero me da igual! 1 2'"
      ]
     },
     "execution_count": 19,
     "metadata": {},
     "output_type": "execute_result"
    }
   ],
   "source": [
    "my_class.mi_atributo_privado = \"soy privado, pero me da igual!\"\n",
    "\n",
    "my_class.mi_atributo_privado"
   ]
  },
  {
   "cell_type": "markdown",
   "id": "a1c33441",
   "metadata": {},
   "source": [
    "# Decoradores de clase"
   ]
  },
  {
   "cell_type": "code",
   "execution_count": 26,
   "id": "0bf17973",
   "metadata": {},
   "outputs": [
    {
     "ename": "TypeError",
     "evalue": "say_hello() takes 1 positional argument but 2 were given",
     "output_type": "error",
     "traceback": [
      "\u001b[0;31m---------------------------------------------------------------------------\u001b[0m",
      "\u001b[0;31mTypeError\u001b[0m                                 Traceback (most recent call last)",
      "\u001b[0;32m/tmp/ipykernel_55458/897176799.py\u001b[0m in \u001b[0;36m<module>\u001b[0;34m\u001b[0m\n\u001b[1;32m      7\u001b[0m \u001b[0;34m\u001b[0m\u001b[0m\n\u001b[1;32m      8\u001b[0m \u001b[0mmy_class\u001b[0m \u001b[0;34m=\u001b[0m \u001b[0mMyClass\u001b[0m\u001b[0;34m(\u001b[0m\u001b[0;34m)\u001b[0m\u001b[0;34m\u001b[0m\u001b[0;34m\u001b[0m\u001b[0m\n\u001b[0;32m----> 9\u001b[0;31m \u001b[0mmy_class\u001b[0m\u001b[0;34m.\u001b[0m\u001b[0msay_hello\u001b[0m\u001b[0;34m(\u001b[0m\u001b[0;34m\"asd\"\u001b[0m\u001b[0;34m)\u001b[0m\u001b[0;34m\u001b[0m\u001b[0;34m\u001b[0m\u001b[0m\n\u001b[0m",
      "\u001b[0;31mTypeError\u001b[0m: say_hello() takes 1 positional argument but 2 were given"
     ]
    }
   ],
   "source": [
    "class MyClass:\n",
    "\n",
    "    def say_hello(msg): # Método\n",
    "        return 'hello world {}'.format(msg)\n",
    "\n",
    "MyClass.say_hello(\"hola\")\n",
    "\n",
    "my_class = MyClass()\n",
    "my_class.say_hello(\"asd\")"
   ]
  },
  {
   "cell_type": "code",
   "execution_count": null,
   "id": "981bebd7",
   "metadata": {},
   "outputs": [],
   "source": [
    "class MyClass:\n",
    "\n",
    "    @staticmethod\n",
    "    def say_hello(msg): # Método\n",
    "        return 'hello world {}'.format(msg)\n",
    "    \n",
    "MyClass.say_hello(\"hola\")"
   ]
  },
  {
   "cell_type": "markdown",
   "id": "d5e66421",
   "metadata": {},
   "source": [
    "## Decoradores y Método de clase"
   ]
  },
  {
   "cell_type": "markdown",
   "id": "bf7f4cc3",
   "metadata": {},
   "source": [
    "Un método de clase es un método que está vinculado a una clase en lugar de a su objeto. No requiere la creación de una instancia de clase, al igual que staticmethod.\n",
    "\n",
    "La diferencia entre un método estático y un método de clase es:\n",
    "* El método estático no sabe nada sobre la clase y solo se ocupa de los parámetros\n",
    "* El método de clase funciona con la clase ya que su parámetro es siempre la clase misma.\n"
   ]
  },
  {
   "cell_type": "code",
   "execution_count": 27,
   "id": "f1c2b9cf",
   "metadata": {},
   "outputs": [
    {
     "data": {
      "text/plain": [
       "'hello world hola'"
      ]
     },
     "execution_count": 27,
     "metadata": {},
     "output_type": "execute_result"
    }
   ],
   "source": [
    "class MyClass:\n",
    "\n",
    "    @classmethod\n",
    "    def say_hello(cls, msg): # Método\n",
    "        return 'hello world {}'.format(msg)\n",
    "    \n",
    "\n",
    "MyClass.say_hello(\"hola\")"
   ]
  },
  {
   "cell_type": "code",
   "execution_count": 28,
   "id": "aa6edf43",
   "metadata": {},
   "outputs": [
    {
     "data": {
      "text/plain": [
       "'hello world hola'"
      ]
     },
     "execution_count": 28,
     "metadata": {},
     "output_type": "execute_result"
    }
   ],
   "source": [
    "my_class = MyClass()\n",
    "my_class.say_hello(\"hola\")"
   ]
  },
  {
   "cell_type": "code",
   "execution_count": 32,
   "id": "37723362",
   "metadata": {},
   "outputs": [
    {
     "name": "stdout",
     "output_type": "stream",
     "text": [
      "<class '__main__.MyClass'>\n"
     ]
    }
   ],
   "source": [
    "class MyClass:\n",
    "    \n",
    "    @classmethod\n",
    "    def print_cls(cls):\n",
    "        print(cls)\n",
    "\n",
    "    def print_self(self):\n",
    "        print(self)\n",
    "    \n",
    "\n",
    "MyClass.print_cls()"
   ]
  },
  {
   "cell_type": "code",
   "execution_count": 33,
   "id": "1c2af2e8",
   "metadata": {},
   "outputs": [
    {
     "name": "stdout",
     "output_type": "stream",
     "text": [
      "<__main__.MyClass object at 0x7ff98c326850>\n"
     ]
    }
   ],
   "source": [
    "my_class = MyClass()\n",
    "my_class.print_self()"
   ]
  },
  {
   "cell_type": "markdown",
   "id": "574ce18b",
   "metadata": {},
   "source": [
    "# Herencia"
   ]
  },
  {
   "cell_type": "code",
   "execution_count": 34,
   "id": "8183fbfa",
   "metadata": {},
   "outputs": [],
   "source": [
    "class User:\n",
    "    \n",
    "    def __init__(self, username):\n",
    "        self.__username = username\n",
    "    \n",
    "    @property\n",
    "    def username(self):\n",
    "        return self.__username\n",
    "\n",
    "    def save(self, user_data):\n",
    "        print(f\"User {self} saved\")"
   ]
  },
  {
   "cell_type": "code",
   "execution_count": 35,
   "id": "590ede43",
   "metadata": {},
   "outputs": [],
   "source": [
    "class StaffUser(User):\n",
    "    def manage_accounts(self, accounts_list):\n",
    "        print(\"updating stuffs in accounts\")"
   ]
  },
  {
   "cell_type": "code",
   "execution_count": 36,
   "id": "8103ab92",
   "metadata": {},
   "outputs": [
    {
     "name": "stdout",
     "output_type": "stream",
     "text": [
      "updating stuffs in accounts\n",
      "User <__main__.StaffUser object at 0x7ff98c393ca0> saved\n"
     ]
    }
   ],
   "source": [
    "staff_user = StaffUser(username=\"Paco\")\n",
    "\n",
    "staff_user.manage_accounts(accounts_list=[])\n",
    "\n",
    "staff_user.save(user_data=[])"
   ]
  },
  {
   "cell_type": "markdown",
   "id": "69ee8bb7",
   "metadata": {},
   "source": [
    "## Método super. \"Overload\" de métodos"
   ]
  },
  {
   "cell_type": "code",
   "execution_count": null,
   "id": "c7b686aa",
   "metadata": {},
   "outputs": [],
   "source": [
    "class User:\n",
    "    \n",
    "    def __init__(self, name, username):\n",
    "        self._name = name\n",
    "        self.__username = username\n",
    "\n",
    "\n",
    "class StaffUser(User):\n",
    "    def __init__(self, name, username, age, dni):\n",
    "        self._name = name\n",
    "        self.__username = username\n",
    "        self.__age = age\n",
    "        self.__dni = dni"
   ]
  },
  {
   "cell_type": "code",
   "execution_count": 37,
   "id": "5eff5be6",
   "metadata": {},
   "outputs": [],
   "source": [
    "class User:\n",
    "    \n",
    "    def __init__(self, name, username):\n",
    "        self._name = name\n",
    "        self.__username = username\n",
    "\n",
    "\n",
    "class StaffUser(User):\n",
    "    def __init__(self, name, username, age, dni):\n",
    "        super().__init__(name, username)\n",
    "        self.__age = age\n",
    "        self.__dni = dni"
   ]
  },
  {
   "cell_type": "code",
   "execution_count": 38,
   "id": "0763f1ae",
   "metadata": {},
   "outputs": [
    {
     "data": {
      "text/plain": [
       "'Francisco'"
      ]
     },
     "execution_count": 38,
     "metadata": {},
     "output_type": "execute_result"
    }
   ],
   "source": [
    "staff_user = StaffUser(username=\"Paco\", name=\"Francisco\", age=\"40\", dni=\"11111111z\")\n",
    "\n",
    "staff_user._name"
   ]
  },
  {
   "cell_type": "markdown",
   "id": "d8812a0c",
   "metadata": {},
   "source": [
    "## Herencia Múltiple"
   ]
  },
  {
   "cell_type": "code",
   "execution_count": 39,
   "id": "8842a742",
   "metadata": {},
   "outputs": [],
   "source": [
    "class User:\n",
    "    \n",
    "    def __init__(self, username):\n",
    "        self.__username = username\n",
    "    \n",
    "    @property\n",
    "    def username(self):\n",
    "        return self.__username\n",
    "\n",
    "    def save(self, user_data):\n",
    "        print(f\"User {self} saved\")\n",
    "\n",
    "        \n",
    "class StaffMixin:\n",
    "    def manage_accounts(self, accounts_list):\n",
    "        print(\"updating stuffs in accounts\")\n",
    "        \n",
    "\n",
    "class StaffUser(User, StaffMixin):\n",
    "    pass"
   ]
  },
  {
   "cell_type": "code",
   "execution_count": 40,
   "id": "b9e1c8c7",
   "metadata": {},
   "outputs": [
    {
     "name": "stdout",
     "output_type": "stream",
     "text": [
      "updating stuffs in accounts\n",
      "User <__main__.StaffUser object at 0x7ff98c3269a0> saved\n"
     ]
    }
   ],
   "source": [
    "staff_user = StaffUser(username=\"Paco\")\n",
    "\n",
    "staff_user.manage_accounts(accounts_list=[])\n",
    "\n",
    "staff_user.save(user_data=[])"
   ]
  },
  {
   "cell_type": "markdown",
   "id": "a05bda52",
   "metadata": {},
   "source": [
    "## Resolución de las clases en herencia Múltiple. The method resolution order (or MRO) "
   ]
  },
  {
   "cell_type": "code",
   "execution_count": 45,
   "id": "8205130b",
   "metadata": {},
   "outputs": [],
   "source": [
    "class Alfabeto:\n",
    "    def dime(self):\n",
    "        print(\"Para que quieres eso? jajaja, Salu2\")\n",
    "\n",
    "\n",
    "class A(Alfabeto):\n",
    "    def dime(self):\n",
    "        print(\"AAAA!\")\n",
    "        super().dime()\n",
    "\n",
    "\n",
    "class B(Alfabeto):\n",
    "    def dime(self):\n",
    "        print(\"BBBB!\")\n",
    "        super().dime()\n",
    "\n",
    "\n",
    "class C(A, B):\n",
    "    pass"
   ]
  },
  {
   "cell_type": "code",
   "execution_count": 43,
   "id": "2efac46e",
   "metadata": {},
   "outputs": [
    {
     "name": "stdout",
     "output_type": "stream",
     "text": [
      "AAAA!\n",
      "BBBB!\n",
      "Para que quieres eso? jajaja, Salu2\n"
     ]
    }
   ],
   "source": [
    "c = C()\n",
    "c.dime()"
   ]
  },
  {
   "cell_type": "code",
   "execution_count": 44,
   "id": "dbe14ff4",
   "metadata": {},
   "outputs": [
    {
     "data": {
      "text/plain": [
       "(__main__.C, __main__.A, __main__.B, __main__.Alfabeto, object)"
      ]
     },
     "execution_count": 44,
     "metadata": {},
     "output_type": "execute_result"
    }
   ],
   "source": [
    "C.__mro__"
   ]
  },
  {
   "cell_type": "markdown",
   "id": "5d4e0cb5",
   "metadata": {},
   "source": [
    "## Validando nuestras clases"
   ]
  },
  {
   "cell_type": "code",
   "execution_count": 46,
   "id": "812b8a76",
   "metadata": {},
   "outputs": [
    {
     "data": {
      "text/plain": [
       "True"
      ]
     },
     "execution_count": 46,
     "metadata": {},
     "output_type": "execute_result"
    }
   ],
   "source": [
    "issubclass(StaffUser, User)"
   ]
  },
  {
   "cell_type": "code",
   "execution_count": 48,
   "id": "10477803",
   "metadata": {},
   "outputs": [
    {
     "data": {
      "text/plain": [
       "True"
      ]
     },
     "execution_count": 48,
     "metadata": {},
     "output_type": "execute_result"
    }
   ],
   "source": [
    "issubclass(StaffUser, StaffMixin)"
   ]
  },
  {
   "cell_type": "markdown",
   "id": "be27e618",
   "metadata": {},
   "source": [
    "## Validando nuestros objectos"
   ]
  },
  {
   "cell_type": "code",
   "execution_count": 49,
   "id": "ebb8fff8",
   "metadata": {},
   "outputs": [
    {
     "ename": "TypeError",
     "evalue": "issubclass() arg 1 must be a class",
     "output_type": "error",
     "traceback": [
      "\u001b[0;31m---------------------------------------------------------------------------\u001b[0m",
      "\u001b[0;31mTypeError\u001b[0m                                 Traceback (most recent call last)",
      "\u001b[0;32m/tmp/ipykernel_55458/1545968792.py\u001b[0m in \u001b[0;36m<module>\u001b[0;34m\u001b[0m\n\u001b[0;32m----> 1\u001b[0;31m \u001b[0missubclass\u001b[0m\u001b[0;34m(\u001b[0m\u001b[0mstaff_user\u001b[0m\u001b[0;34m,\u001b[0m \u001b[0mUser\u001b[0m\u001b[0;34m)\u001b[0m\u001b[0;34m\u001b[0m\u001b[0;34m\u001b[0m\u001b[0m\n\u001b[0m",
      "\u001b[0;31mTypeError\u001b[0m: issubclass() arg 1 must be a class"
     ]
    }
   ],
   "source": [
    "issubclass(staff_user, User)"
   ]
  },
  {
   "cell_type": "code",
   "execution_count": 51,
   "id": "44fc4ecb",
   "metadata": {},
   "outputs": [
    {
     "data": {
      "text/plain": [
       "True"
      ]
     },
     "execution_count": 51,
     "metadata": {},
     "output_type": "execute_result"
    }
   ],
   "source": [
    "isinstance(staff_user, User)"
   ]
  },
  {
   "cell_type": "code",
   "execution_count": 52,
   "id": "eaf55a93",
   "metadata": {},
   "outputs": [
    {
     "data": {
      "text/plain": [
       "True"
      ]
     },
     "execution_count": 52,
     "metadata": {},
     "output_type": "execute_result"
    }
   ],
   "source": [
    "isinstance(staff_user, StaffUser)"
   ]
  },
  {
   "cell_type": "code",
   "execution_count": 55,
   "id": "3aad2174",
   "metadata": {},
   "outputs": [
    {
     "data": {
      "text/plain": [
       "False"
      ]
     },
     "execution_count": 55,
     "metadata": {},
     "output_type": "execute_result"
    }
   ],
   "source": [
    "type(staff_user) is StaffUser"
   ]
  },
  {
   "cell_type": "code",
   "execution_count": 56,
   "id": "9ee006ba",
   "metadata": {},
   "outputs": [
    {
     "data": {
      "text/plain": [
       "True"
      ]
     },
     "execution_count": 56,
     "metadata": {},
     "output_type": "execute_result"
    }
   ],
   "source": [
    "issubclass(type(staff_user), User)"
   ]
  },
  {
   "cell_type": "code",
   "execution_count": null,
   "id": "caf5e2de",
   "metadata": {},
   "outputs": [],
   "source": []
  }
 ],
 "metadata": {
  "kernelspec": {
   "display_name": "Python 3 (ipykernel)",
   "language": "python",
   "name": "python3"
  },
  "language_info": {
   "codemirror_mode": {
    "name": "ipython",
    "version": 3
   },
   "file_extension": ".py",
   "mimetype": "text/x-python",
   "name": "python",
   "nbconvert_exporter": "python",
   "pygments_lexer": "ipython3",
   "version": "3.8.10"
  }
 },
 "nbformat": 4,
 "nbformat_minor": 5
}
