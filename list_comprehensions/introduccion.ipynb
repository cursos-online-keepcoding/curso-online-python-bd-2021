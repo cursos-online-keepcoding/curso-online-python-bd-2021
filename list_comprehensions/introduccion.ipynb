{
 "cells": [
  {
   "cell_type": "markdown",
   "id": "d8d6eeb4",
   "metadata": {},
   "source": [
    "# List comprehensions"
   ]
  },
  {
   "cell_type": "code",
   "execution_count": 2,
   "id": "db2d2120",
   "metadata": {},
   "outputs": [
    {
     "name": "stdout",
     "output_type": "stream",
     "text": [
      "715 ns ± 2.16 ns per loop (mean ± std. dev. of 7 runs, 1000000 loops each)\n"
     ]
    }
   ],
   "source": [
    "%%timeit\n",
    "test_list = []\n",
    "\n",
    "for i in range(10):\n",
    "    test_list.append(i)\n",
    "\n",
    "test_list"
   ]
  },
  {
   "cell_type": "code",
   "execution_count": 3,
   "id": "b76496b5",
   "metadata": {},
   "outputs": [
    {
     "name": "stdout",
     "output_type": "stream",
     "text": [
      "549 ns ± 4.26 ns per loop (mean ± std. dev. of 7 runs, 1000000 loops each)\n"
     ]
    }
   ],
   "source": [
    "%%timeit\n",
    "[i for i in range(10)]"
   ]
  },
  {
   "cell_type": "markdown",
   "id": "6213aff6",
   "metadata": {},
   "source": [
    "## Operaciones"
   ]
  },
  {
   "cell_type": "code",
   "execution_count": 4,
   "id": "2b067594",
   "metadata": {},
   "outputs": [
    {
     "data": {
      "text/plain": [
       "[2, 4, 6, 8]"
      ]
     },
     "execution_count": 4,
     "metadata": {},
     "output_type": "execute_result"
    }
   ],
   "source": [
    "[i + i for i in (1, 2, 3, 4)]"
   ]
  },
  {
   "cell_type": "code",
   "execution_count": 6,
   "id": "f59c3c34",
   "metadata": {},
   "outputs": [
    {
     "data": {
      "text/plain": [
       "[1, 3, 4]"
      ]
     },
     "execution_count": 6,
     "metadata": {},
     "output_type": "execute_result"
    }
   ],
   "source": [
    "[i for i in (1, 2, 3, 4) if i != 2]\n",
    "        "
   ]
  },
  {
   "cell_type": "code",
   "execution_count": 7,
   "id": "034c2eaa",
   "metadata": {},
   "outputs": [
    {
     "data": {
      "text/plain": [
       "[(1, 5),\n",
       " (1, 6),\n",
       " (1, 7),\n",
       " (1, 8),\n",
       " (2, 5),\n",
       " (2, 6),\n",
       " (2, 7),\n",
       " (2, 8),\n",
       " (3, 5),\n",
       " (3, 6),\n",
       " (3, 7),\n",
       " (3, 8),\n",
       " (4, 5),\n",
       " (4, 6),\n",
       " (4, 7),\n",
       " (4, 8)]"
      ]
     },
     "execution_count": 7,
     "metadata": {},
     "output_type": "execute_result"
    }
   ],
   "source": [
    "[(i, j) for i in (1, 2, 3, 4) for j in (5, 6, 7, 8)]"
   ]
  },
  {
   "cell_type": "code",
   "execution_count": 8,
   "id": "d6b73235",
   "metadata": {},
   "outputs": [
    {
     "data": {
      "text/plain": [
       "[(1, 5, 9),\n",
       " (1, 5, 0),\n",
       " (1, 6, 9),\n",
       " (1, 6, 0),\n",
       " (1, 7, 9),\n",
       " (1, 7, 0),\n",
       " (1, 8, 9),\n",
       " (1, 8, 0),\n",
       " (2, 5, 9),\n",
       " (2, 5, 0),\n",
       " (2, 6, 9),\n",
       " (2, 6, 0),\n",
       " (2, 7, 9),\n",
       " (2, 7, 0),\n",
       " (2, 8, 9),\n",
       " (2, 8, 0),\n",
       " (3, 5, 9),\n",
       " (3, 5, 0),\n",
       " (3, 6, 9),\n",
       " (3, 6, 0),\n",
       " (3, 7, 9),\n",
       " (3, 7, 0),\n",
       " (3, 8, 9),\n",
       " (3, 8, 0),\n",
       " (4, 5, 9),\n",
       " (4, 5, 0),\n",
       " (4, 6, 9),\n",
       " (4, 6, 0),\n",
       " (4, 7, 9),\n",
       " (4, 7, 0),\n",
       " (4, 8, 9),\n",
       " (4, 8, 0)]"
      ]
     },
     "execution_count": 8,
     "metadata": {},
     "output_type": "execute_result"
    }
   ],
   "source": [
    "[(i, j, k) for i in (1, 2, 3, 4) for j in (5, 6, 7, 8) for k in (9, 0)]"
   ]
  },
  {
   "cell_type": "code",
   "execution_count": 11,
   "id": "f1b7f8d5",
   "metadata": {},
   "outputs": [
    {
     "data": {
      "text/plain": [
       "['hola 1', 'hola 2', 'hola 3', 'hola 4']"
      ]
     },
     "execution_count": 11,
     "metadata": {},
     "output_type": "execute_result"
    }
   ],
   "source": [
    "def say_hello(i):\n",
    "    return (f\"hola {str(i)}\")\n",
    "    \n",
    "[say_hello(i) for i in (1, 2, 3, 4)]"
   ]
  },
  {
   "cell_type": "markdown",
   "id": "72462728",
   "metadata": {},
   "source": [
    "# Tipos de listas comprimidas"
   ]
  },
  {
   "cell_type": "code",
   "execution_count": 12,
   "id": "63b8a64d",
   "metadata": {},
   "outputs": [
    {
     "data": {
      "text/plain": [
       "list"
      ]
     },
     "execution_count": 12,
     "metadata": {},
     "output_type": "execute_result"
    }
   ],
   "source": [
    "type([i for i in range(4)])"
   ]
  },
  {
   "cell_type": "code",
   "execution_count": 13,
   "id": "ddb1a77a",
   "metadata": {},
   "outputs": [
    {
     "data": {
      "text/plain": [
       "generator"
      ]
     },
     "execution_count": 13,
     "metadata": {},
     "output_type": "execute_result"
    }
   ],
   "source": [
    "type((i for i in range(4)))"
   ]
  },
  {
   "cell_type": "code",
   "execution_count": 14,
   "id": "00a8071b",
   "metadata": {},
   "outputs": [
    {
     "data": {
      "text/plain": [
       "tuple"
      ]
     },
     "execution_count": 14,
     "metadata": {},
     "output_type": "execute_result"
    }
   ],
   "source": [
    "type(tuple(i for i in range(4)))"
   ]
  },
  {
   "cell_type": "code",
   "execution_count": 15,
   "id": "0ebb879c",
   "metadata": {},
   "outputs": [
    {
     "data": {
      "text/plain": [
       "set"
      ]
     },
     "execution_count": 15,
     "metadata": {},
     "output_type": "execute_result"
    }
   ],
   "source": [
    "type({i for i in range(4)})"
   ]
  },
  {
   "cell_type": "code",
   "execution_count": 16,
   "id": "6fe67506",
   "metadata": {},
   "outputs": [
    {
     "data": {
      "text/plain": [
       "dict"
      ]
     },
     "execution_count": 16,
     "metadata": {},
     "output_type": "execute_result"
    }
   ],
   "source": [
    "type({i:i for i in range(4)})"
   ]
  },
  {
   "cell_type": "markdown",
   "id": "fcc9e773",
   "metadata": {},
   "source": [
    "# Funciones con listas comprimidas"
   ]
  },
  {
   "cell_type": "markdown",
   "id": "ef9c0674",
   "metadata": {},
   "source": [
    "## Range, un clásico"
   ]
  },
  {
   "cell_type": "code",
   "execution_count": 17,
   "id": "fc374f8f",
   "metadata": {},
   "outputs": [
    {
     "data": {
      "text/plain": [
       "range(0, 4)"
      ]
     },
     "execution_count": 17,
     "metadata": {},
     "output_type": "execute_result"
    }
   ],
   "source": [
    "range(4)"
   ]
  },
  {
   "cell_type": "markdown",
   "id": "ea518f60",
   "metadata": {},
   "source": [
    "Cuidado que es un generador, para recuperar sus valores"
   ]
  },
  {
   "cell_type": "code",
   "execution_count": 18,
   "id": "80443539",
   "metadata": {},
   "outputs": [
    {
     "data": {
      "text/plain": [
       "[0, 1, 2, 3]"
      ]
     },
     "execution_count": 18,
     "metadata": {},
     "output_type": "execute_result"
    }
   ],
   "source": [
    "list(range(4))"
   ]
  },
  {
   "cell_type": "markdown",
   "id": "a2142daa",
   "metadata": {},
   "source": [
    "# Map"
   ]
  },
  {
   "cell_type": "code",
   "execution_count": 19,
   "id": "9b8cd08b",
   "metadata": {},
   "outputs": [
    {
     "data": {
      "text/plain": [
       "[0.0, 0.5, 1.0, 1.5, 2.0, 2.5, 3.0, 3.5, 4.0, 4.5]"
      ]
     },
     "execution_count": 19,
     "metadata": {},
     "output_type": "execute_result"
    }
   ],
   "source": [
    "list(map(lambda x: x / 2, (i for i in range(10))))"
   ]
  },
  {
   "cell_type": "markdown",
   "id": "55a077db",
   "metadata": {},
   "source": [
    "## Filter"
   ]
  },
  {
   "cell_type": "code",
   "execution_count": 20,
   "id": "965490a0",
   "metadata": {},
   "outputs": [
    {
     "data": {
      "text/plain": [
       "[1, 3, 5, 7, 9]"
      ]
     },
     "execution_count": 20,
     "metadata": {},
     "output_type": "execute_result"
    }
   ],
   "source": [
    "list(filter(lambda x: x % 2, (i for i in range(10))))"
   ]
  },
  {
   "cell_type": "markdown",
   "id": "716cd452",
   "metadata": {},
   "source": [
    "## All y Any"
   ]
  },
  {
   "cell_type": "code",
   "execution_count": 21,
   "id": "6856dde2",
   "metadata": {},
   "outputs": [
    {
     "data": {
      "text/plain": [
       "False"
      ]
     },
     "execution_count": 21,
     "metadata": {},
     "output_type": "execute_result"
    }
   ],
   "source": [
    "all([True, True, False, False])"
   ]
  },
  {
   "cell_type": "code",
   "execution_count": 22,
   "id": "d0124fca",
   "metadata": {},
   "outputs": [
    {
     "data": {
      "text/plain": [
       "True"
      ]
     },
     "execution_count": 22,
     "metadata": {},
     "output_type": "execute_result"
    }
   ],
   "source": [
    "all([True, True, True, True])"
   ]
  },
  {
   "cell_type": "code",
   "execution_count": 23,
   "id": "3529d4ef",
   "metadata": {},
   "outputs": [
    {
     "data": {
      "text/plain": [
       "True"
      ]
     },
     "execution_count": 23,
     "metadata": {},
     "output_type": "execute_result"
    }
   ],
   "source": [
    "any([True, False, False, False])"
   ]
  },
  {
   "cell_type": "code",
   "execution_count": 24,
   "id": "26201727",
   "metadata": {},
   "outputs": [
    {
     "data": {
      "text/plain": [
       "False"
      ]
     },
     "execution_count": 24,
     "metadata": {},
     "output_type": "execute_result"
    }
   ],
   "source": [
    "any([False, False, False, False])"
   ]
  },
  {
   "cell_type": "markdown",
   "id": "258a1c37",
   "metadata": {},
   "source": [
    "## Itertools"
   ]
  },
  {
   "cell_type": "code",
   "execution_count": 26,
   "id": "b0dd5000",
   "metadata": {},
   "outputs": [],
   "source": [
    "import itertools"
   ]
  },
  {
   "cell_type": "code",
   "execution_count": 27,
   "id": "3ef4f3f2",
   "metadata": {},
   "outputs": [
    {
     "data": {
      "text/plain": [
       "[0, 1, 3, 6, 10]"
      ]
     },
     "execution_count": 27,
     "metadata": {},
     "output_type": "execute_result"
    }
   ],
   "source": [
    "list(itertools.accumulate(i for i in range(5))) # [0, 1, 2, 3, 4]"
   ]
  },
  {
   "cell_type": "code",
   "execution_count": 28,
   "id": "1e4ab05a",
   "metadata": {},
   "outputs": [
    {
     "data": {
      "text/plain": [
       "[('A', 'A'),\n",
       " ('A', 'B'),\n",
       " ('A', 'C'),\n",
       " ('A', 'D'),\n",
       " ('B', 'A'),\n",
       " ('B', 'B'),\n",
       " ('B', 'C'),\n",
       " ('B', 'D'),\n",
       " ('C', 'A'),\n",
       " ('C', 'B'),\n",
       " ('C', 'C'),\n",
       " ('C', 'D'),\n",
       " ('D', 'A'),\n",
       " ('D', 'B'),\n",
       " ('D', 'C'),\n",
       " ('D', 'D')]"
      ]
     },
     "execution_count": 28,
     "metadata": {},
     "output_type": "execute_result"
    }
   ],
   "source": [
    "list(itertools.product('ABCD', repeat=2))"
   ]
  },
  {
   "cell_type": "code",
   "execution_count": 29,
   "id": "aa90ae89",
   "metadata": {},
   "outputs": [
    {
     "data": {
      "text/plain": [
       "[('A', 'B'),\n",
       " ('A', 'C'),\n",
       " ('A', 'D'),\n",
       " ('B', 'A'),\n",
       " ('B', 'C'),\n",
       " ('B', 'D'),\n",
       " ('C', 'A'),\n",
       " ('C', 'B'),\n",
       " ('C', 'D'),\n",
       " ('D', 'A'),\n",
       " ('D', 'B'),\n",
       " ('D', 'C')]"
      ]
     },
     "execution_count": 29,
     "metadata": {},
     "output_type": "execute_result"
    }
   ],
   "source": [
    "[(p1, p2) for p1, p2 in itertools.product('ABCD', repeat=2) if p1 != p2]"
   ]
  }
 ],
 "metadata": {
  "kernelspec": {
   "display_name": "Python 3 (ipykernel)",
   "language": "python",
   "name": "python3"
  },
  "language_info": {
   "codemirror_mode": {
    "name": "ipython",
    "version": 3
   },
   "file_extension": ".py",
   "mimetype": "text/x-python",
   "name": "python",
   "nbconvert_exporter": "python",
   "pygments_lexer": "ipython3",
   "version": "3.8.10"
  }
 },
 "nbformat": 4,
 "nbformat_minor": 5
}
