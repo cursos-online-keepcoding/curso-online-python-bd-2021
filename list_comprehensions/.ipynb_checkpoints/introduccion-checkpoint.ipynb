{
 "cells": [
  {
   "cell_type": "markdown",
   "id": "d8d6eeb4",
   "metadata": {},
   "source": [
    "# List comprehensions"
   ]
  },
  {
   "cell_type": "code",
   "execution_count": null,
   "id": "db2d2120",
   "metadata": {},
   "outputs": [],
   "source": [
    "# %%timeit\n",
    "test_list = []\n",
    "\n",
    "for i in range(10):\n",
    "   test_list.append(i)\n",
    "\n",
    "test_list"
   ]
  },
  {
   "cell_type": "code",
   "execution_count": null,
   "id": "b76496b5",
   "metadata": {},
   "outputs": [],
   "source": [
    "# %%timeit\n",
    "[i for i in range(10)]"
   ]
  },
  {
   "cell_type": "markdown",
   "id": "6213aff6",
   "metadata": {},
   "source": [
    "## Operaciones"
   ]
  },
  {
   "cell_type": "code",
   "execution_count": null,
   "id": "2b067594",
   "metadata": {},
   "outputs": [],
   "source": [
    "[i + i for i in (1, 2, 3, 4)]"
   ]
  },
  {
   "cell_type": "code",
   "execution_count": null,
   "id": "f59c3c34",
   "metadata": {},
   "outputs": [],
   "source": [
    "[i for i in (1, 2, 3, 4) if i != 2]"
   ]
  },
  {
   "cell_type": "code",
   "execution_count": null,
   "id": "034c2eaa",
   "metadata": {},
   "outputs": [],
   "source": [
    "[(i, j) for i in (1, 2, 3, 4) for j in (5, 6, 7, 8)]"
   ]
  },
  {
   "cell_type": "code",
   "execution_count": null,
   "id": "d6b73235",
   "metadata": {},
   "outputs": [],
   "source": [
    "[(i, j, k) for i in (1, 2, 3, 4) for j in (5, 6, 7, 8) for k in (9, 0)]"
   ]
  },
  {
   "cell_type": "code",
   "execution_count": null,
   "id": "f1b7f8d5",
   "metadata": {},
   "outputs": [],
   "source": [
    "def say_hello(i):\n",
    "    print(f\"hola {str(i)}\")\n",
    "    \n",
    "[say_hello(i) for i in (1, 2, 3, 4)]"
   ]
  },
  {
   "cell_type": "markdown",
   "id": "72462728",
   "metadata": {},
   "source": [
    "# Tipos de listas comprimidas"
   ]
  },
  {
   "cell_type": "code",
   "execution_count": null,
   "id": "63b8a64d",
   "metadata": {},
   "outputs": [],
   "source": [
    "type([i for i in range(4)])"
   ]
  },
  {
   "cell_type": "code",
   "execution_count": null,
   "id": "ddb1a77a",
   "metadata": {},
   "outputs": [],
   "source": [
    "type((i for i in range(4)))"
   ]
  },
  {
   "cell_type": "code",
   "execution_count": null,
   "id": "00a8071b",
   "metadata": {},
   "outputs": [],
   "source": [
    "type(tuple(i for i in range(4)))"
   ]
  },
  {
   "cell_type": "code",
   "execution_count": null,
   "id": "0ebb879c",
   "metadata": {},
   "outputs": [],
   "source": [
    "type({i for i in range(4)})"
   ]
  },
  {
   "cell_type": "code",
   "execution_count": null,
   "id": "6fe67506",
   "metadata": {},
   "outputs": [],
   "source": [
    "type({i:i for i in range(4)})"
   ]
  },
  {
   "cell_type": "markdown",
   "id": "fcc9e773",
   "metadata": {},
   "source": [
    "# Funciones con listas comprimidas"
   ]
  },
  {
   "cell_type": "markdown",
   "id": "ef9c0674",
   "metadata": {},
   "source": [
    "## Range, un clásico"
   ]
  },
  {
   "cell_type": "code",
   "execution_count": null,
   "id": "fc374f8f",
   "metadata": {},
   "outputs": [],
   "source": [
    "range(4)"
   ]
  },
  {
   "cell_type": "markdown",
   "id": "ea518f60",
   "metadata": {},
   "source": [
    "Cuidado que es un generador, para recuperar sus valores"
   ]
  },
  {
   "cell_type": "code",
   "execution_count": null,
   "id": "80443539",
   "metadata": {},
   "outputs": [],
   "source": [
    "list(range(4))"
   ]
  },
  {
   "cell_type": "markdown",
   "id": "a2142daa",
   "metadata": {},
   "source": [
    "# Map"
   ]
  },
  {
   "cell_type": "code",
   "execution_count": null,
   "id": "9b8cd08b",
   "metadata": {},
   "outputs": [],
   "source": [
    "list(map(lambda x: x / 2, (i for i in range(10))))"
   ]
  },
  {
   "cell_type": "markdown",
   "id": "55a077db",
   "metadata": {},
   "source": [
    "## Filter"
   ]
  },
  {
   "cell_type": "code",
   "execution_count": null,
   "id": "965490a0",
   "metadata": {},
   "outputs": [],
   "source": [
    "list(filter(lambda x: x % 2, (i for i in range(10))))"
   ]
  },
  {
   "cell_type": "markdown",
   "id": "716cd452",
   "metadata": {},
   "source": [
    "## All y Any"
   ]
  },
  {
   "cell_type": "code",
   "execution_count": null,
   "id": "6856dde2",
   "metadata": {},
   "outputs": [],
   "source": [
    "all([True, True, False, False])"
   ]
  },
  {
   "cell_type": "code",
   "execution_count": null,
   "id": "d0124fca",
   "metadata": {},
   "outputs": [],
   "source": [
    "all([True, True, True, True])"
   ]
  },
  {
   "cell_type": "code",
   "execution_count": null,
   "id": "3529d4ef",
   "metadata": {},
   "outputs": [],
   "source": [
    "any([True, False, False, False])"
   ]
  },
  {
   "cell_type": "code",
   "execution_count": null,
   "id": "26201727",
   "metadata": {},
   "outputs": [],
   "source": [
    "any([False, False, False, False])"
   ]
  },
  {
   "cell_type": "markdown",
   "id": "258a1c37",
   "metadata": {},
   "source": [
    "## Itertools"
   ]
  },
  {
   "cell_type": "code",
   "execution_count": null,
   "id": "b0dd5000",
   "metadata": {},
   "outputs": [],
   "source": [
    "import itertools"
   ]
  },
  {
   "cell_type": "code",
   "execution_count": null,
   "id": "3ef4f3f2",
   "metadata": {},
   "outputs": [],
   "source": [
    "list(itertools.accumulate(i for i in range(5))) # [0, 1, 2, 3, 4]"
   ]
  },
  {
   "cell_type": "code",
   "execution_count": null,
   "id": "1e4ab05a",
   "metadata": {},
   "outputs": [],
   "source": [
    "list(itertools.product('ABCD', repeat=2))"
   ]
  },
  {
   "cell_type": "code",
   "execution_count": null,
   "id": "aa90ae89",
   "metadata": {},
   "outputs": [],
   "source": [
    "[(p1, p2) for p1, p2 in itertools.product('ABCD', repeat=2) if p1 != p2]"
   ]
  }
 ],
 "metadata": {
  "kernelspec": {
   "display_name": "Python 3 (ipykernel)",
   "language": "python",
   "name": "python3"
  },
  "language_info": {
   "codemirror_mode": {
    "name": "ipython",
    "version": 3
   },
   "file_extension": ".py",
   "mimetype": "text/x-python",
   "name": "python",
   "nbconvert_exporter": "python",
   "pygments_lexer": "ipython3",
   "version": "3.8.10"
  }
 },
 "nbformat": 4,
 "nbformat_minor": 5
}
